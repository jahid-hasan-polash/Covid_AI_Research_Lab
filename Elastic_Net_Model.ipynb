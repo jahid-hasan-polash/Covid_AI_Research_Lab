{
 "cells": [
  {
   "cell_type": "markdown",
   "id": "1ecd9584",
   "metadata": {},
   "source": [
    "# Elastic Net Model\n",
    "##### IT is a Linear Regression Model But it supports hyperparameter tunning #####"
   ]
  },
  {
   "cell_type": "code",
   "execution_count": null,
   "id": "e4d381e1",
   "metadata": {},
   "outputs": [],
   "source": [
    "import pandas as pd\n",
    "from sklearn.model_selection import train_test_split\n",
    "from sklearn.linear_model import ElasticNet\n",
    "from sklearn.metrics import mean_squared_error\n",
    "\n",
    "#Reading the pre_processed data\n",
    "data = pd.read_excel(r\"dataset\\processed_data\\main\\final_cleaned_dataset.xlsx\")\n",
    "#Droping the target col\n",
    "feature_value_temp = data.drop(\"Laboratory confirmed, since the beginning of the pandemic Hospitalized\", axis=1)\n",
    "#Droping the Distric col as it is string and will be assigned value by clustering\n",
    "features = feature_value_temp.drop(\"District\",axis=1)\n",
    "target_col = data[\"Laboratory confirmed, since the beginning of the pandemic Hospitalized\"]\n",
    "\n",
    "#Doing test train split\n",
    "X_train, X_test, y_train, y_test = train_test_split(features, target_col, test_size=0.3, random_state=22)"
   ]
  },
  {
   "cell_type": "code",
   "execution_count": 41,
   "id": "29b0ff84",
   "metadata": {},
   "outputs": [],
   "source": [
    "alpha = 0.0  # Regularization strength (controls the balance between L1 and L2 regularization)\n",
    "l1_ratio = 0.0  # L1 ratio (0.0 corresponds to Ridge, 1.0 to Lasso)\n",
    "\n",
    "elastic_net_model = ElasticNet(alpha=alpha, l1_ratio=l1_ratio,max_iter=1500)"
   ]
  },
  {
   "cell_type": "code",
   "execution_count": null,
   "id": "d7827008",
   "metadata": {},
   "outputs": [
    {
     "name": "stderr",
     "output_type": "stream",
     "text": [
      "C:\\Users\\abdul\\AppData\\Local\\Temp/ipykernel_21696/1388674170.py:1: UserWarning: With alpha=0, this algorithm does not converge well. You are advised to use the LinearRegression estimator\n",
      "  elastic_net_model.fit(X_train, y_train)\n",
      "C:\\Users\\abdul\\anaconda3\\lib\\site-packages\\sklearn\\linear_model\\_coordinate_descent.py:530: UserWarning: Coordinate descent with no regularization may lead to unexpected results and is discouraged.\n",
      "  model = cd_fast.enet_coordinate_descent(\n"
     ]
    }
   ],
   "source": [
    "elastic_net_model.fit(X_train, y_train)\n",
    "y_pred = elastic_net_model.predict(X_test)\n",
    "mse = mean_squared_error(y_test, y_pred)\n",
    "print(mse)"
   ]
  },
  {
   "cell_type": "code",
   "execution_count": null,
   "id": "f0f6495a",
   "metadata": {},
   "outputs": [],
   "source": []
  }
 ],
 "metadata": {
  "kernelspec": {
   "display_name": "Python 3 (ipykernel)",
   "language": "python",
   "name": "python3"
  },
  "language_info": {
   "codemirror_mode": {
    "name": "ipython",
    "version": 3
   },
   "file_extension": ".py",
   "mimetype": "text/x-python",
   "name": "python",
   "nbconvert_exporter": "python",
   "pygments_lexer": "ipython3",
   "version": "3.9.7"
  }
 },
 "nbformat": 4,
 "nbformat_minor": 5
}
