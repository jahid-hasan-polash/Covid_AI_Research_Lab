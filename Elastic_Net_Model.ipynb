{
 "cells": [
  {
   "cell_type": "markdown",
   "id": "1ecd9584",
   "metadata": {},
   "source": [
    "# Elastic Net Model\n",
    "##### IT is a Linear Regression Model But it supports hyperparameter tunning #####"
   ]
  },
  {
   "cell_type": "code",
   "execution_count": 1,
   "id": "7eaaee5d",
   "metadata": {},
   "outputs": [],
   "source": [
    "import pandas as pd\n",
    "from sklearn.model_selection import train_test_split\n",
    "from sklearn.linear_model import ElasticNet\n",
    "from sklearn.metrics import mean_squared_error,r2_score\n",
    "import platform"
   ]
  },
  {
   "cell_type": "code",
   "execution_count": 2,
   "id": "e4d381e1",
   "metadata": {},
   "outputs": [],
   "source": [
    "#Reading the pre_processed data\n",
    "os_type = platform.system()\n",
    "if os_type.startswith(\"Darwin\"):\n",
    "    data = pd.read_excel(r\"dataset/processed_data/main/final_cleaned_dataset.xlsx\")\n",
    "else: \n",
    "    data = pd.read_excel(r\"dataset\\processed_data\\main\\final_cleaned_dataset.xlsx\")\n",
    "#Droping the target col\n",
    "feature_value_temp = data.drop(\"Laboratory confirmed, since the beginning of the pandemic Hospitalized\", axis=1)\n",
    "#Droping the Distric col as it is string and will be assigned value by clustering\n",
    "features = feature_value_temp.drop(\"District\",axis=1)\n",
    "features = features.drop(\"Unnamed: 0\",axis=1)\n",
    "features = features.drop(\"Laboratory confirmed, since the beginning of the pandemic TOTAL\",axis=1)\n",
    "features = features.drop(\"Laboratory confirmed, since the beginning of the pandemic RecoveredA\",axis=1)\n",
    "features = features.drop(\"Laboratory confirmed, since the beginning of the pandemic Deceased\",axis=1)\n",
    "\n",
    "\n",
    "data['flag'] = 3  # Initialize the 'flag' column with 0\n",
    "data.loc[data['Laboratory confirmed, since the beginning of the pandemic Hospitalized'] <= 449, 'flag'] = 2\n",
    "data.loc[data['Laboratory confirmed, since the beginning of the pandemic Hospitalized'] <= 290, 'flag'] = 1\n",
    "\n",
    "target_col = data[\"flag\"]"
   ]
  },
  {
   "cell_type": "code",
   "execution_count": 8,
   "id": "29b0ff84",
   "metadata": {},
   "outputs": [],
   "source": [
    "alpha = 0.0  # Regularization strength (controls the balance between L1 and L2 regularization)\n",
    "l1_ratio = 0.0  # L1 ratio (0.0 corresponds to Ridge, 1.0 to Lasso)\n",
    "\n",
    "elastic_net_model = ElasticNet(alpha=alpha, l1_ratio=l1_ratio,max_iter=1500)"
   ]
  },
  {
   "cell_type": "code",
   "execution_count": 4,
   "id": "d7827008",
   "metadata": {},
   "outputs": [
    {
     "ename": "NameError",
     "evalue": "name 'elastic_net_model' is not defined",
     "output_type": "error",
     "traceback": [
      "\u001b[0;31m---------------------------------------------------------------------------\u001b[0m",
      "\u001b[0;31mNameError\u001b[0m                                 Traceback (most recent call last)",
      "\u001b[0;32m/var/folders/sp/yvcgwz7123s5b22dgqw9m9m00000gn/T/ipykernel_6061/3453964649.py\u001b[0m in \u001b[0;36m<module>\u001b[0;34m\u001b[0m\n\u001b[0;32m----> 1\u001b[0;31m \u001b[0melastic_net_model\u001b[0m\u001b[0;34m.\u001b[0m\u001b[0mfit\u001b[0m\u001b[0;34m(\u001b[0m\u001b[0mX_train\u001b[0m\u001b[0;34m,\u001b[0m \u001b[0my_train\u001b[0m\u001b[0;34m)\u001b[0m\u001b[0;34m\u001b[0m\u001b[0;34m\u001b[0m\u001b[0m\n\u001b[0m\u001b[1;32m      2\u001b[0m \u001b[0my_pred\u001b[0m \u001b[0;34m=\u001b[0m \u001b[0melastic_net_model\u001b[0m\u001b[0;34m.\u001b[0m\u001b[0mpredict\u001b[0m\u001b[0;34m(\u001b[0m\u001b[0mX_test\u001b[0m\u001b[0;34m)\u001b[0m\u001b[0;34m\u001b[0m\u001b[0;34m\u001b[0m\u001b[0m\n\u001b[1;32m      3\u001b[0m \u001b[0mmse\u001b[0m \u001b[0;34m=\u001b[0m \u001b[0mmean_squared_error\u001b[0m\u001b[0;34m(\u001b[0m\u001b[0my_test\u001b[0m\u001b[0;34m,\u001b[0m \u001b[0my_pred\u001b[0m\u001b[0;34m)\u001b[0m\u001b[0;34m\u001b[0m\u001b[0;34m\u001b[0m\u001b[0m\n\u001b[1;32m      4\u001b[0m \u001b[0mr2_error\u001b[0m\u001b[0;34m=\u001b[0m \u001b[0mr2_score\u001b[0m\u001b[0;34m(\u001b[0m\u001b[0my_test\u001b[0m\u001b[0;34m,\u001b[0m \u001b[0my_pred\u001b[0m\u001b[0;34m)\u001b[0m\u001b[0;34m\u001b[0m\u001b[0;34m\u001b[0m\u001b[0m\n\u001b[1;32m      5\u001b[0m \u001b[0mprint\u001b[0m\u001b[0;34m(\u001b[0m\u001b[0mmse\u001b[0m\u001b[0;34m)\u001b[0m\u001b[0;34m\u001b[0m\u001b[0;34m\u001b[0m\u001b[0m\n",
      "\u001b[0;31mNameError\u001b[0m: name 'elastic_net_model' is not defined"
     ]
    }
   ],
   "source": [
    "elastic_net_model.fit(X_train, y_train)\n",
    "y_pred = elastic_net_model.predict(X_test)\n",
    "mse = mean_squared_error(y_test, y_pred)\n",
    "r2_error= r2_score(y_test, y_pred)\n",
    "print(mse)\n",
    "print(r2_error)\n",
    "# Calculate accuracy, recall, precision, and F1 score\n",
    "accuracy = accuracy_score(y_test, y_pred)\n",
    "recall = recall_score(y_test, y_pred,average='weighted')\n",
    "precision = precision_score(y_test, y_pred,average='weighted')\n",
    "f1 = f1_score(y_test, y_pred,average='weighted')\n",
    "\n",
    "print(f\"Accuracy: {accuracy:.2f}\")\n",
    "print(f\"Recall: {recall:.2f}\")\n",
    "print(f\"Precision: {precision:.2f}\")\n",
    "print(f\"F1 Score: {f1:.2f}\")"
   ]
  },
  {
   "cell_type": "code",
   "execution_count": null,
   "id": "f0f6495a",
   "metadata": {},
   "outputs": [],
   "source": []
  }
 ],
 "metadata": {
  "kernelspec": {
   "display_name": "Python 3 (ipykernel)",
   "language": "python",
   "name": "python3"
  },
  "language_info": {
   "codemirror_mode": {
    "name": "ipython",
    "version": 3
   },
   "file_extension": ".py",
   "mimetype": "text/x-python",
   "name": "python",
   "nbconvert_exporter": "python",
   "pygments_lexer": "ipython3",
   "version": "3.9.13"
  }
 },
 "nbformat": 4,
 "nbformat_minor": 5
}
