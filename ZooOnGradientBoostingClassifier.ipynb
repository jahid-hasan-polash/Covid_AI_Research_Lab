{
 "cells": [
  {
   "cell_type": "code",
   "execution_count": 9,
   "id": "4b7e8950",
   "metadata": {},
   "outputs": [],
   "source": [
    "import os\n",
    "import platform\n",
    "import pandas as pd\n",
    "import numpy as np\n",
    "import warnings\n",
    "from sklearn.ensemble import GradientBoostingClassifier\n",
    "from sklearn.model_selection import train_test_split\n",
    "from sklearn.metrics import accuracy_score, recall_score, precision_score, f1_score\n",
    "from art.estimators.classification import SklearnClassifier\n",
    "from art.attacks.evasion import ZooAttack\n",
    "\n",
    "# Suppress warnings\n",
    "warnings.filterwarnings('ignore')"
   ]
  },
  {
   "cell_type": "code",
   "execution_count": 10,
   "id": "3a17acf4",
   "metadata": {},
   "outputs": [],
   "source": [
    "# Function to load the dataset based on the operating system\n",
    "def load_dataset():\n",
    "    os_type = platform.system()\n",
    "    if os_type.startswith(\"Darwin\"):\n",
    "        dataset_path = \"dataset/processed_data/main/final_cleaned_dataset.xlsx\"\n",
    "    else:\n",
    "        dataset_path = \"dataset\\\\processed_data\\\\main\\\\final_cleaned_dataset.xlsx\"\n",
    "    return pd.read_excel(dataset_path)"
   ]
  },
  {
   "cell_type": "code",
   "execution_count": 11,
   "id": "9b3765f5",
   "metadata": {},
   "outputs": [],
   "source": [
    "# Data preprocessing\n",
    "def preprocess_data(data):\n",
    "    # Drop target and irrelevant columns\n",
    "    features = data.drop(columns=[\n",
    "        \"Laboratory confirmed, since the beginning of the pandemic Hospitalized\",\n",
    "        \"District\", \"Unnamed: 0\", \"Laboratory confirmed, since the beginning of the pandemic TOTAL\",\n",
    "        \"Laboratory confirmed, since the beginning of the pandemic RecoveredA\",\n",
    "        \"Laboratory confirmed, since the beginning of the pandemic Deceased\"\n",
    "    ])\n",
    "    \n",
    "    # Initialize the 'flag' column based on specified conditions\n",
    "    data['flag'] = 3\n",
    "    data.loc[data['Laboratory confirmed, since the beginning of the pandemic Hospitalized'] <= 449, 'flag'] = 2\n",
    "    data.loc[data['Laboratory confirmed, since the beginning of the pandemic Hospitalized'] <= 290, 'flag'] = 1\n",
    "\n",
    "    # Define features and target column\n",
    "    target_col = data[\"flag\"]\n",
    "\n",
    "    return features, target_col"
   ]
  },
  {
   "cell_type": "code",
   "execution_count": 12,
   "id": "ebf1e5c2",
   "metadata": {},
   "outputs": [
    {
     "name": "stderr",
     "output_type": "stream",
     "text": [
      "ZOO: 100%|████████████████████████████████| 11690/11690 [01:58<00:00, 98.82it/s]\n"
     ]
    }
   ],
   "source": [
    "# Read the data from the Excel file\n",
    "data = load_dataset()\n",
    "features, target_col = preprocess_data(data)\n",
    "\n",
    "# Split the data into training and testing sets\n",
    "X_train, X_test, y_train, y_test = train_test_split(features, target_col, test_size=0.3, random_state=29)\n",
    "\n",
    "# Train a GradientBoostingClassifier model\n",
    "model = GradientBoostingClassifier(n_estimators=50, random_state=22)\n",
    "model.fit(X=X_train, y=y_train)\n",
    "\n",
    "# Create ART classifier for scikit-learn GradientBoostingClassifier\n",
    "art_classifier = SklearnClassifier(model=model)\n",
    "\n",
    "# Create ART Zeroth Order Optimization attack\n",
    "zoo = ZooAttack(classifier=art_classifier, confidence=0.0, targeted=False, learning_rate=1e-1, max_iter=20,\n",
    "                binary_search_steps=10, initial_const=1e-3, abort_early=True, use_resize=False,\n",
    "                use_importance=False, nb_parallel=1, batch_size=1, variable_h=0.2)\n",
    "\n",
    "# Generate adversarial samples with ART Zeroth Order Optimization attack\n",
    "x_train_adv = zoo.generate(X_train.values)"
   ]
  },
  {
   "cell_type": "code",
   "execution_count": 13,
   "id": "71e4b5cf",
   "metadata": {},
   "outputs": [
    {
     "name": "stderr",
     "output_type": "stream",
     "text": [
      "ZOO: 100%|██████████████████████████████████| 5010/5010 [00:51<00:00, 97.58it/s]\n"
     ]
    }
   ],
   "source": [
    "x_test_adv = zoo.generate(X_test.values)\n",
    "np.save('zoo_gbc_train_adv.npy', x_test_adv )\n",
    "np.save('zoo_gbc_test_adv.npy', x_test_adv )"
   ]
  },
  {
   "cell_type": "code",
   "execution_count": 14,
   "id": "e19751e6",
   "metadata": {},
   "outputs": [],
   "source": [
    "# Evaluate model scores\n",
    "def evaluate_model(model, X, y):\n",
    "    score = model.score(X, y)\n",
    "    return score"
   ]
  },
  {
   "cell_type": "code",
   "execution_count": 15,
   "id": "c63ea1cd",
   "metadata": {},
   "outputs": [
    {
     "name": "stdout",
     "output_type": "stream",
     "text": [
      "Normal Training Score: 0.7134\n",
      "Adversarial Training Score: 0.7084\n",
      "Normal Test Score: 0.6866\n",
      "Adversarial Test Score: 0.6836\n",
      "Accuracy: 0.69\n",
      "Recall: 0.69\n",
      "Precision: 0.66\n",
      "F1 Score: 0.66\n"
     ]
    }
   ],
   "source": [
    "# Evaluate the model on various datasets\n",
    "scores = {\n",
    "    \"Normal Training Score\": evaluate_model(model, X_train, y_train),\n",
    "    \"Adversarial Training Score\": evaluate_model(model, x_train_adv, y_train),\n",
    "    \"Normal Test Score\": evaluate_model(model, X_test, y_test),\n",
    "    \"Adversarial Test Score\": evaluate_model(model, x_test_adv, y_test)\n",
    "}\n",
    "\n",
    "for score_name, score_value in scores.items():\n",
    "    print(f\"{score_name}: {score_value:.4f}\")\n",
    "\n",
    "# Predict using the model and calculate performance metrics\n",
    "y_pred = model.predict(X_test)\n",
    "\n",
    "# Calculate accuracy, recall, precision, and F1 score\n",
    "accuracy = accuracy_score(y_test, y_pred)\n",
    "recall = recall_score(y_test, y_pred, average='weighted')\n",
    "precision = precision_score(y_test, y_pred, average='weighted')\n",
    "f1 = f1_score(y_test, y_pred, average='weighted')\n",
    "\n",
    "print(f\"Accuracy: {accuracy:.2f}\")\n",
    "print(f\"Recall: {recall:.2f}\")\n",
    "print(f\"Precision: {precision:.2f}\")\n",
    "print(f\"F1 Score: {f1:.2f}\")"
   ]
  }
 ],
 "metadata": {
  "kernelspec": {
   "display_name": "Python 3 (ipykernel)",
   "language": "python",
   "name": "python3"
  },
  "language_info": {
   "codemirror_mode": {
    "name": "ipython",
    "version": 3
   },
   "file_extension": ".py",
   "mimetype": "text/x-python",
   "name": "python",
   "nbconvert_exporter": "python",
   "pygments_lexer": "ipython3",
   "version": "3.11.4"
  }
 },
 "nbformat": 4,
 "nbformat_minor": 5
}
