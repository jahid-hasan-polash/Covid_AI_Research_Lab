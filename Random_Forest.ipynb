{
 "cells": [
  {
   "cell_type": "markdown",
   "id": "bf86b1be",
   "metadata": {},
   "source": [
    "# Random forest without the district #"
   ]
  },
  {
   "cell_type": "code",
   "execution_count": 1,
   "id": "ee406b0d",
   "metadata": {},
   "outputs": [],
   "source": [
    "import pandas as pd\n",
    "from sklearn.model_selection import train_test_split\n",
    "from sklearn.ensemble import RandomForestRegressor\n",
    "from sklearn.metrics import mean_squared_error"
   ]
  },
  {
   "cell_type": "code",
   "execution_count": 2,
   "id": "8071891e",
   "metadata": {},
   "outputs": [],
   "source": [
    "#Reading the pre_processed data\n",
    "data = pd.read_excel(r\"dataset\\processed_data\\main\\final_cleaned_dataset.xlsx\")\n",
    "#Droping the target col\n",
    "feature_value_temp = data.drop(\"Laboratory confirmed, since the beginning of the pandemic Hospitalized\", axis=1)\n",
    "#Droping the Distric col as it is string and will be assigned value by clustering\n",
    "features = feature_value_temp.drop(\"District\",axis=1)\n",
    "target_col = data[\"Laboratory confirmed, since the beginning of the pandemic Hospitalized\"]"
   ]
  },
  {
   "cell_type": "code",
   "execution_count": 3,
   "id": "5774a68c",
   "metadata": {},
   "outputs": [],
   "source": [
    "X_train, X_test, y_train, y_test = train_test_split(features, target_col, test_size=0.3, random_state=22)"
   ]
  },
  {
   "cell_type": "code",
   "execution_count": 4,
   "id": "a5ba6e59",
   "metadata": {},
   "outputs": [],
   "source": [
    "mse_value = []\n",
    "estimators_ = []\n",
    "for estimator in range(50,150):\n",
    "    RF_model = RandomForestRegressor(n_estimators = estimator ,random_state= 22)\n",
    "    RF_model.fit(X_train,y_train)\n",
    "    y_pred = RF_model.predict(X_test)\n",
    "    estimators_.append(estimator)\n",
    "    mse_value.append(mean_squared_error(y_test, y_pred))"
   ]
  },
  {
   "cell_type": "code",
   "execution_count": 5,
   "id": "b58a5e2a",
   "metadata": {},
   "outputs": [
    {
     "data": {
      "image/png": "[encoded data removed]",
      "text/plain": [
       "<Figure size 432x288 with 1 Axes>"
      ]
     },
     "metadata": {
      "needs_background": "light"
     },
     "output_type": "display_data"
    }
   ],
   "source": [
    "import matplotlib.pyplot as plt\n",
    "plt.plot(estimators_, mse_value)\n",
    "plt.title('mse')\n",
    "plt.xlabel('estimator')\n",
    "plt.ylabel('mse')\n",
    "plt.show()"
   ]
  },
  {
   "cell_type": "code",
   "execution_count": null,
   "id": "15dcddf1",
   "metadata": {},
   "outputs": [],
   "source": [
    "mse_value = []\n",
    "estimators_ = []\n",
    "for estimator in range(150,250):\n",
    "    RF_model = RandomForestRegressor(n_estimators = estimator ,random_state= 22)\n",
    "    RF_model.fit(X_train,y_train)\n",
    "    y_pred = RF_model.predict(X_test)\n",
    "    estimators_.append(estimator)\n",
    "    mse_value.append(mean_squared_error(y_test, y_pred))\n"
   ]
  },
  {
   "cell_type": "code",
   "execution_count": null,
   "id": "8910e7aa",
   "metadata": {},
   "outputs": [],
   "source": [
    "plt.plot(estimators_, mse_value)\n",
    "plt.title('mse')\n",
    "plt.xlabel('estimator')\n",
    "plt.ylabel('mse')\n",
    "plt.show()"
   ]
  },
  {
   "cell_type": "code",
   "execution_count": null,
   "id": "9f09f92b",
   "metadata": {},
   "outputs": [],
   "source": [
    "plt.plot(estimators_[0:10], mse_value[0:10])\n",
    "plt.title('mse')\n",
    "plt.xlabel('estimator')\n",
    "plt.ylabel('mse')\n",
    "plt.show()"
   ]
  },
  {
   "cell_type": "code",
   "execution_count": null,
   "id": "60dd74ff",
   "metadata": {},
   "outputs": [],
   "source": [
    "RF_model = RandomForestRegressor(n_estimators = 153 ,random_state= 22)\n",
    "RF_model.fit(X_train,y_train)\n",
    "y_pred = RF_model.predict(X_test)\n",
    "mean_squared_error(y_test, y_pred)"
   ]
  },
  {
   "cell_type": "code",
   "execution_count": null,
   "id": "d67c839b",
   "metadata": {},
   "outputs": [],
   "source": [
    "#Predicted value\n",
    "print(y_pred)"
   ]
  },
  {
   "cell_type": "code",
   "execution_count": null,
   "id": "83e3d11f",
   "metadata": {},
   "outputs": [],
   "source": []
  }
 ],
 "metadata": {
  "kernelspec": {
   "display_name": "Python 3 (ipykernel)",
   "language": "python",
   "name": "python3"
  },
  "language_info": {
   "codemirror_mode": {
    "name": "ipython",
    "version": 3
   },
   "file_extension": ".py",
   "mimetype": "text/x-python",
   "name": "python",
   "nbconvert_exporter": "python",
   "pygments_lexer": "ipython3",
   "version": "3.9.7"
  }
 },
 "nbformat": 4,
 "nbformat_minor": 5
}
