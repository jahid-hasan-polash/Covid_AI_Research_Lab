{
 "cells": [
  {
   "cell_type": "code",
   "execution_count": 1,
   "id": "4295fb8a",
   "metadata": {},
   "outputs": [],
   "source": [
    "import random\n",
    "import platform\n",
    "import numpy as np\n",
    "import pandas as pd\n",
    "from sklearn.model_selection import train_test_split\n",
    "from sklearn.ensemble import RandomForestClassifier\n",
    "from sklearn.metrics import accuracy_score, recall_score, precision_score, f1_score"
   ]
  },
  {
   "cell_type": "code",
   "execution_count": 2,
   "id": "b8fb1c7b",
   "metadata": {},
   "outputs": [],
   "source": [
    "def load_and_preprocess():\n",
    "    #Reading the pre_processed data\n",
    "    os_type = platform.system()\n",
    "    if os_type.startswith(\"Darwin\"):\n",
    "        data = pd.read_excel(r\"dataset/processed_data/main/final_cleaned_dataset.xlsx\")\n",
    "    else: \n",
    "        data = pd.read_excel(r\"dataset\\processed_data\\main\\final_cleaned_dataset.xlsx\")\n",
    "    #Droping the target col\n",
    "    feature_value_temp = data.drop(\"Laboratory confirmed, since the beginning of the pandemic Hospitalized\", axis=1)\n",
    "    #Droping the Distric col as it is string and will be assigned value by clustering\n",
    "    features = feature_value_temp.drop(\"District\",axis=1)\n",
    "    features = features.drop(\"Unnamed: 0\",axis=1)\n",
    "    features = features.drop(\"Laboratory confirmed, since the beginning of the pandemic TOTAL\",axis=1)\n",
    "    features = features.drop(\"Laboratory confirmed, since the beginning of the pandemic RecoveredA\",axis=1)\n",
    "    features = features.drop(\"Laboratory confirmed, since the beginning of the pandemic Deceased\",axis=1)\n",
    "\n",
    "\n",
    "    data['flag'] = 3  # Initialize the 'flag' column with 3\n",
    "    data.loc[data['Laboratory confirmed, since the beginning of the pandemic Hospitalized'] <= 449, 'flag'] = 2\n",
    "    data.loc[data['Laboratory confirmed, since the beginning of the pandemic Hospitalized'] <= 290, 'flag'] = 1\n",
    "\n",
    "    target_col = data[\"flag\"]\n",
    "    \n",
    "    return features, np.array(target_col)"
   ]
  },
  {
   "cell_type": "code",
   "execution_count": 3,
   "id": "af7d0c04",
   "metadata": {},
   "outputs": [],
   "source": [
    "def flip_label(current_label):\n",
    "    altered = (current_label + 1) % 3\n",
    "    return altered + 1 if altered == 0 else altered\n",
    "\n",
    "def label_flipping_poisoning(y_train, poison_rate):\n",
    "    alteration_count = int(len(y_train) * (poison_rate / 100))\n",
    "    alteration_indexes = random.sample(range(0, len(y_train)), alteration_count)\n",
    "    for index in alteration_indexes:\n",
    "        y_train[index] = flip_label(y_train[index])\n",
    "    return y_train"
   ]
  },
  {
   "cell_type": "code",
   "execution_count": 16,
   "id": "e171ef97",
   "metadata": {},
   "outputs": [],
   "source": [
    "features, target_col = load_and_preprocess()\n",
    "X_train, X_test, y_train, y_test = train_test_split(features, target_col, test_size=0.3, random_state=29)\n",
    "# label flipping poisoning to 25 percent data\n",
    "poisoned_target_col = label_flipping_poisoning(np.copy(y_train), 25)"
   ]
  },
  {
   "cell_type": "code",
   "execution_count": 17,
   "id": "05be81d6",
   "metadata": {},
   "outputs": [
    {
     "name": "stdout",
     "output_type": "stream",
     "text": [
      "Accuracy: 0.77\n",
      "Recall: 0.77\n",
      "Precision: 0.76\n",
      "F1 Score: 0.77\n"
     ]
    }
   ],
   "source": [
    "model = RandomForestClassifier(n_estimators=50, random_state= 22)\n",
    "model.fit(X=X_train, y=y_train)\n",
    "\n",
    "y_pred = model.predict(X_test)\n",
    "\n",
    "# Calculate accuracy, recall, precision, and F1 score\n",
    "accuracy = accuracy_score(y_test, y_pred)\n",
    "recall = recall_score(y_test, y_pred,average='weighted')\n",
    "precision = precision_score(y_test, y_pred,average='weighted')\n",
    "f1 = f1_score(y_test, y_pred,average='weighted')\n",
    "\n",
    "print(f\"Accuracy: {accuracy:.2f}\")\n",
    "print(f\"Recall: {recall:.2f}\")\n",
    "print(f\"Precision: {precision:.2f}\")\n",
    "print(f\"F1 Score: {f1:.2f}\")"
   ]
  },
  {
   "cell_type": "code",
   "execution_count": 18,
   "id": "a119f7cd",
   "metadata": {},
   "outputs": [
    {
     "name": "stdout",
     "output_type": "stream",
     "text": [
      "Accuracy: 0.68\n",
      "Recall: 0.68\n",
      "Precision: 0.70\n",
      "F1 Score: 0.68\n"
     ]
    }
   ],
   "source": [
    "model.fit(X=X_train, y=poisoned_target_col)\n",
    "\n",
    "y_pred = model.predict(X_test)\n",
    "\n",
    "# Calculate accuracy, recall, precision, and F1 score\n",
    "accuracy = accuracy_score(y_test, y_pred)\n",
    "recall = recall_score(y_test, y_pred,average='weighted')\n",
    "precision = precision_score(y_test, y_pred,average='weighted')\n",
    "f1 = f1_score(y_test, y_pred,average='weighted')\n",
    "\n",
    "print(f\"Accuracy: {accuracy:.2f}\")\n",
    "print(f\"Recall: {recall:.2f}\")\n",
    "print(f\"Precision: {precision:.2f}\")\n",
    "print(f\"F1 Score: {f1:.2f}\")"
   ]
  },
  {
   "cell_type": "code",
   "execution_count": null,
   "id": "a3b206e4",
   "metadata": {},
   "outputs": [],
   "source": []
  }
 ],
 "metadata": {
  "kernelspec": {
   "display_name": "Python 3 (ipykernel)",
   "language": "python",
   "name": "python3"
  },
  "language_info": {
   "codemirror_mode": {
    "name": "ipython",
    "version": 3
   },
   "file_extension": ".py",
   "mimetype": "text/x-python",
   "name": "python",
   "nbconvert_exporter": "python",
   "pygments_lexer": "ipython3",
   "version": "3.11.4"
  }
 },
 "nbformat": 4,
 "nbformat_minor": 5
}
