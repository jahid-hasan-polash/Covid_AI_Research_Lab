{
 "cells": [
  {
   "cell_type": "code",
   "execution_count": 3,
   "id": "d4738056",
   "metadata": {},
   "outputs": [],
   "source": [
    "import pandas as pd\n",
    "from sklearn.tree import DecisionTreeClassifier\n",
    "import sklearn.metrics as metrics\n",
    "from sklearn.metrics import accuracy_score, recall_score, precision_score, f1_score\n",
    "from sklearn.model_selection import train_test_split\n",
    "import platform"
   ]
  },
  {
   "cell_type": "code",
   "execution_count": 4,
   "id": "26eea43c",
   "metadata": {},
   "outputs": [],
   "source": [
    "#Reading the pre_processed data\n",
    "os_type = platform.system()\n",
    "if os_type.startswith(\"Darwin\"):\n",
    "    data = pd.read_excel(r\"dataset/processed_data/main/final_cleaned_dataset.xlsx\")\n",
    "else: \n",
    "    data = pd.read_excel(r\"dataset\\processed_data\\main\\final_cleaned_dataset.xlsx\")\n",
    "#Droping the target col\n",
    "feature_value_temp = data.drop(\"Laboratory confirmed, since the beginning of the pandemic Hospitalized\", axis=1)\n",
    "#Droping the Distric col as it is string and will be assigned value by clustering\n",
    "features = feature_value_temp.drop(\"District\",axis=1)\n",
    "features = features.drop(\"Unnamed: 0\",axis=1)\n",
    "features = features.drop(\"Laboratory confirmed, since the beginning of the pandemic TOTAL\",axis=1)\n",
    "features = features.drop(\"Laboratory confirmed, since the beginning of the pandemic RecoveredA\",axis=1)\n",
    "features = features.drop(\"Laboratory confirmed, since the beginning of the pandemic Deceased\",axis=1)\n",
    "\n",
    "\n",
    "data['flag'] = 3  # Initialize the 'flag' column with 0\n",
    "data.loc[data['Laboratory confirmed, since the beginning of the pandemic Hospitalized'] <= 449, 'flag'] = 2\n",
    "data.loc[data['Laboratory confirmed, since the beginning of the pandemic Hospitalized'] <= 290, 'flag'] = 1\n",
    "\n",
    "target_col = data[\"flag\"]"
   ]
  },
  {
   "cell_type": "code",
   "execution_count": 5,
   "id": "965fd07b",
   "metadata": {},
   "outputs": [
    {
     "name": "stdout",
     "output_type": "stream",
     "text": [
      "Root Mean Squared Error: 0.6837141726337691\n",
      "Mean Squared Error:0.4674650698602794\n",
      "R2 Score: 0.3250124085580738\n",
      "Accuracy: 0.70\n",
      "Recall: 0.70\n",
      "Precision: 0.70\n",
      "F1 Score: 0.70\n"
     ]
    }
   ],
   "source": [
    "from math import sqrt\n",
    "r2_score = metrics.r2_score\n",
    "\n",
    "# Splitting the data into train and test sets\n",
    "X_train, X_test, y_train, y_test = train_test_split(features, target_col, test_size=0.3, random_state=42)\n",
    "\n",
    "# Instantiating the gradient boosting regressor model\n",
    "gb_reg = DecisionTreeClassifier()\n",
    "\n",
    "# Fitting the model to the training data\n",
    "gb_reg.fit(X_train, y_train)\n",
    "\n",
    "# Predicting the test set results\n",
    "y_pred = gb_reg.predict(X_test)\n",
    "\n",
    "# Evaluating the model performance\n",
    "mse =  metrics.mean_squared_error(y_test, y_pred)\n",
    "rmse = sqrt(mse)\n",
    "print(f\"Root Mean Squared Error: {rmse}\")\n",
    "print(f\"Mean Squared Error:{mse}\")\n",
    "print(\"R2 Score:\", metrics.r2_score(y_test, y_pred))\n",
    "# Calculate accuracy, recall, precision, and F1 score\n",
    "accuracy = accuracy_score(y_test, y_pred)\n",
    "recall = recall_score(y_test, y_pred,average='weighted')\n",
    "precision = precision_score(y_test, y_pred,average='weighted')\n",
    "f1 = f1_score(y_test, y_pred,average='weighted')\n",
    "\n",
    "print(f\"Accuracy: {accuracy:.2f}\")\n",
    "print(f\"Recall: {recall:.2f}\")\n",
    "print(f\"Precision: {precision:.2f}\")\n",
    "print(f\"F1 Score: {f1:.2f}\")"
   ]
  },
  {
   "cell_type": "code",
   "execution_count": 7,
   "id": "d6471141",
   "metadata": {},
   "outputs": [
    {
     "name": "stdout",
     "output_type": "stream",
     "text": [
      "Metrics appended to model_metrics.csv for Gradient Boosting Classifier.\n"
     ]
    }
   ],
   "source": [
    "import os\n",
    "import csv\n",
    "csv_file = \"model_metrics.csv\"\n",
    "model_name= \"Gradient Boosting Classifier\"\n",
    "# Check if the CSV file exists, and create it with a header if it doesn't\n",
    "if not os.path.exists(csv_file):\n",
    "    with open(csv_file, mode='w', newline='') as file:\n",
    "        writer = csv.writer(file)\n",
    "        writer.writerow([\"Model Name\", \"Accuracy\", \"Recall\", \"Precision\", \"F1 Score\",\"Mse\",\"RMSE\"])\n",
    "\n",
    "# Append the values to the CSV file\n",
    "with open(csv_file, mode='a', newline='') as file:\n",
    "    writer = csv.writer(file)\n",
    "    writer.writerow([model_name, accuracy, recall, precision, f1,mse,rmse])\n",
    "\n",
    "print(f\"Metrics appended to {csv_file} for {model_name}.\")"
   ]
  }
 ],
 "metadata": {
  "kernelspec": {
   "display_name": "Python 3 (ipykernel)",
   "language": "python",
   "name": "python3"
  },
  "language_info": {
   "codemirror_mode": {
    "name": "ipython",
    "version": 3
   },
   "file_extension": ".py",
   "mimetype": "text/x-python",
   "name": "python",
   "nbconvert_exporter": "python",
   "pygments_lexer": "ipython3",
   "version": "3.9.13"
  }
 },
 "nbformat": 4,
 "nbformat_minor": 5
}
