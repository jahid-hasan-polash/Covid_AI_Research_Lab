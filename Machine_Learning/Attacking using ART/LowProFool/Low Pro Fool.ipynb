{
 "cells": [
  {
   "cell_type": "code",
   "execution_count": 1,
   "id": "192e7ae2",
   "metadata": {},
   "outputs": [
    {
     "name": "stdout",
     "output_type": "stream",
     "text": [
      "C:\\Users\\msi\\Desktop\\Research lab\\Covid_AI_Research_Lab\\Machine_Learning\n"
     ]
    }
   ],
   "source": [
    "cd \"../\""
   ]
  },
  {
   "cell_type": "code",
   "execution_count": 3,
   "id": "019284ca",
   "metadata": {},
   "outputs": [],
   "source": [
    "from __future__ import absolute_import, division, print_function, unicode_literals\n",
    "\n",
    "import os, sys\n",
    "from os.path import abspath\n",
    "\n",
    "module_path = os.path.abspath(os.path.join('..'))\n",
    "if module_path not in sys.path:\n",
    "    sys.path.append(module_path)\n",
    "\n",
    "import warnings\n",
    "warnings.filterwarnings('ignore')\n",
    "\n",
    "import tensorflow as tf\n",
    "tf.compat.v1.disable_eager_execution()\n",
    "tf.get_logger().setLevel('ERROR')\n",
    "\n",
    "import tensorflow.keras.backend as k\n",
    "from tensorflow.keras.models import Sequential\n",
    "from tensorflow.keras.layers import Dense, Flatten, Conv2D, MaxPooling2D, Activation, Dropout\n",
    "import numpy as np\n",
    "import matplotlib.pyplot as plt\n",
    "%matplotlib inline\n",
    "\n",
    "from art.estimators.classification import KerasClassifier\n",
    "from art.attacks.poisoning import PoisoningAttackBackdoor, PoisoningAttackCleanLabelBackdoor\n",
    "from art.attacks.poisoning.perturbations import add_pattern_bd\n",
    "from art.utils import load_mnist, preprocess, to_categorical\n",
    "from art.defences.trainer import AdversarialTrainerMadryPGD\n",
    "from tensorflow import keras\n",
    "from tensorflow.keras import layers\n"
   ]
  },
  {
   "cell_type": "code",
   "execution_count": 4,
   "id": "f483dcf7",
   "metadata": {},
   "outputs": [
    {
     "name": "stdout",
     "output_type": "stream",
     "text": [
      " Volume in drive C has no label.\n",
      " Volume Serial Number is 2CEC-A46B\n",
      "\n",
      " Directory of C:\\Users\\msi\\Desktop\\Research lab\\Covid_AI_Research_Lab\\Machine_Learning\\Attacking using ART\\LowProFool\n",
      "\n",
      "10/19/2023  04:42 PM    <DIR>          .\n",
      "10/19/2023  04:42 PM    <DIR>          ..\n",
      "10/19/2023  04:42 PM    <DIR>          .ipynb_checkpoints\n",
      "10/19/2023  04:42 PM            18,060 Low Pro Fool.ipynb\n",
      "10/10/2023  02:15 AM           267,328 low_pro_fool_adversaries.npy\n",
      "               2 File(s)        285,388 bytes\n",
      "               3 Dir(s)   4,316,143,616 bytes free\n"
     ]
    }
   ],
   "source": [
    "ls"
   ]
  },
  {
   "cell_type": "code",
   "execution_count": 2,
   "id": "4ff36d07",
   "metadata": {},
   "outputs": [],
   "source": [
    "import pandas as pd\n",
    "import numpy as np\n",
    "import tensorflow as tf\n",
    "from sklearn.model_selection import train_test_split\n",
    "\n",
    "# Load dataset\n",
    "data = pd.read_excel(r\"C:\\Users\\msi\\Desktop\\Research lab\\Covid_AI_Research_Lab\\Machine_Learning\\merged_scored_dataset1.xlsx\")\n",
    "\n",
    "# Convert the target variable based on the given conditions\n",
    "data['flag'] = 1\n",
    "# data.loc[data['Laboratory confirmed, since the beginning of the pandemic Hospitalized'] <= 449, 'flag'] = 1\n",
    "data.loc[data['Laboratory confirmed, since the beginning of the pandemic Hospitalized'] <= 290, 'flag'] = 0\n",
    "\n",
    "# Drop the columns that exist in the dataset and ignore any errors for columns not found\n",
    "columns_to_drop = ['District', 'Recovery Rate', 'Cluster','Hospitalization Rate']\n",
    "data = data.drop(columns=[col for col in columns_to_drop if col in data.columns])\n",
    "\n",
    "# Split the data into training and test sets\n",
    "X = data.drop(columns=['Laboratory confirmed, since the beginning of the pandemic Hospitalized', 'flag'])\n",
    "y = data['flag']\n",
    "\n",
    "train_data_flag, test_data_flag, y_train_flag, y_test_flag = train_test_split(X, y, test_size=0.2, random_state=42)\n",
    "\n",
    "# Normalize the data\n",
    "mean_flag = train_data_flag.mean(axis=0)\n",
    "std_flag = train_data_flag.std(axis=0)\n",
    "train_data_flag = (train_data_flag - mean_flag) / std_flag\n",
    "test_data_flag = (test_data_flag - mean_flag) / std_flag\n"
   ]
  },
  {
   "cell_type": "code",
   "execution_count": 5,
   "id": "c6e2cc43",
   "metadata": {},
   "outputs": [],
   "source": [
    "x_train, x_test, y_train, y_test = train_data_flag, test_data_flag, y_train_flag, y_test_flag \n",
    "x_train = x_train.astype(np.float32)\n",
    "x_test = x_test.astype(np.float32)"
   ]
  },
  {
   "cell_type": "code",
   "execution_count": 6,
   "id": "8654ecf3",
   "metadata": {},
   "outputs": [
    {
     "data": {
      "text/plain": [
       "((13360, 10), (3340, 10), (13360,), (3340,))"
      ]
     },
     "execution_count": 6,
     "metadata": {},
     "output_type": "execute_result"
    }
   ],
   "source": [
    "train_data_flag.shape, test_data_flag.shape, y_train_flag.shape, y_test_flag.shape"
   ]
  },
  {
   "cell_type": "code",
   "execution_count": 7,
   "id": "679f513e",
   "metadata": {},
   "outputs": [],
   "source": [
    "# Normalize the data\n",
    "mean_flag = train_data_flag.mean(axis=0)\n",
    "std_flag = train_data_flag.std(axis=0)"
   ]
  },
  {
   "cell_type": "code",
   "execution_count": 7,
   "id": "df0683e2",
   "metadata": {},
   "outputs": [],
   "source": [
    "# from tensorflow import keras\n",
    "# from tensorflow.keras import layers\n",
    "# # tf.compat.v1.enable_eager_execution()\n",
    "\n",
    "\n",
    "# # Model Building\n",
    "# model = keras.Sequential([\n",
    "#     layers.Dense(128, activation='relu', input_shape=(train_data_flag.shape[1],)),\n",
    "#     layers.Dropout(0.2), #to prevent overfitting\n",
    "#     layers.Dense(64, activation='relu'),\n",
    "#     layers.Dense(4, activation='softmax')  # We have 3 classes (1, 2, 3), but due to indexing, it's better to set this to 4 and ignore the 0th index\n",
    "# ])\n",
    "\n",
    "# model.compile(optimizer='adam', \n",
    "#                    loss='sparse_categorical_crossentropy', \n",
    "#                    metrics=['accuracy'] )\n",
    "# #model training\n",
    "# history_flag = model.fit(train_data_flag, y_train_flag, epochs=30, batch_size=64, validation_split=0.2)\n",
    "\n",
    "\n",
    "# # Display training history for review\n",
    "# history_flag.history\n"
   ]
  },
  {
   "cell_type": "code",
   "execution_count": 8,
   "id": "d8d97164",
   "metadata": {},
   "outputs": [],
   "source": [
    "# Import SVC\n",
    "from sklearn.svm import SVC\n",
    "\n",
    "# import ART wrapper for scikit-learn SVC\n",
    "from art.estimators.classification.scikitlearn import ScikitlearnSVC"
   ]
  },
  {
   "cell_type": "code",
   "execution_count": 9,
   "id": "3130c9d3",
   "metadata": {},
   "outputs": [
    {
     "data": {
      "text/html": [
       "<style>#sk-container-id-1 {color: black;background-color: white;}#sk-container-id-1 pre{padding: 0;}#sk-container-id-1 div.sk-toggleable {background-color: white;}#sk-container-id-1 label.sk-toggleable__label {cursor: pointer;display: block;width: 100%;margin-bottom: 0;padding: 0.3em;box-sizing: border-box;text-align: center;}#sk-container-id-1 label.sk-toggleable__label-arrow:before {content: \"▸\";float: left;margin-right: 0.25em;color: #696969;}#sk-container-id-1 label.sk-toggleable__label-arrow:hover:before {color: black;}#sk-container-id-1 div.sk-estimator:hover label.sk-toggleable__label-arrow:before {color: black;}#sk-container-id-1 div.sk-toggleable__content {max-height: 0;max-width: 0;overflow: hidden;text-align: left;background-color: #f0f8ff;}#sk-container-id-1 div.sk-toggleable__content pre {margin: 0.2em;color: black;border-radius: 0.25em;background-color: #f0f8ff;}#sk-container-id-1 input.sk-toggleable__control:checked~div.sk-toggleable__content {max-height: 200px;max-width: 100%;overflow: auto;}#sk-container-id-1 input.sk-toggleable__control:checked~label.sk-toggleable__label-arrow:before {content: \"▾\";}#sk-container-id-1 div.sk-estimator input.sk-toggleable__control:checked~label.sk-toggleable__label {background-color: #d4ebff;}#sk-container-id-1 div.sk-label input.sk-toggleable__control:checked~label.sk-toggleable__label {background-color: #d4ebff;}#sk-container-id-1 input.sk-hidden--visually {border: 0;clip: rect(1px 1px 1px 1px);clip: rect(1px, 1px, 1px, 1px);height: 1px;margin: -1px;overflow: hidden;padding: 0;position: absolute;width: 1px;}#sk-container-id-1 div.sk-estimator {font-family: monospace;background-color: #f0f8ff;border: 1px dotted black;border-radius: 0.25em;box-sizing: border-box;margin-bottom: 0.5em;}#sk-container-id-1 div.sk-estimator:hover {background-color: #d4ebff;}#sk-container-id-1 div.sk-parallel-item::after {content: \"\";width: 100%;border-bottom: 1px solid gray;flex-grow: 1;}#sk-container-id-1 div.sk-label:hover label.sk-toggleable__label {background-color: #d4ebff;}#sk-container-id-1 div.sk-serial::before {content: \"\";position: absolute;border-left: 1px solid gray;box-sizing: border-box;top: 0;bottom: 0;left: 50%;z-index: 0;}#sk-container-id-1 div.sk-serial {display: flex;flex-direction: column;align-items: center;background-color: white;padding-right: 0.2em;padding-left: 0.2em;position: relative;}#sk-container-id-1 div.sk-item {position: relative;z-index: 1;}#sk-container-id-1 div.sk-parallel {display: flex;align-items: stretch;justify-content: center;background-color: white;position: relative;}#sk-container-id-1 div.sk-item::before, #sk-container-id-1 div.sk-parallel-item::before {content: \"\";position: absolute;border-left: 1px solid gray;box-sizing: border-box;top: 0;bottom: 0;left: 50%;z-index: -1;}#sk-container-id-1 div.sk-parallel-item {display: flex;flex-direction: column;z-index: 1;position: relative;background-color: white;}#sk-container-id-1 div.sk-parallel-item:first-child::after {align-self: flex-end;width: 50%;}#sk-container-id-1 div.sk-parallel-item:last-child::after {align-self: flex-start;width: 50%;}#sk-container-id-1 div.sk-parallel-item:only-child::after {width: 0;}#sk-container-id-1 div.sk-dashed-wrapped {border: 1px dashed gray;margin: 0 0.4em 0.5em 0.4em;box-sizing: border-box;padding-bottom: 0.4em;background-color: white;}#sk-container-id-1 div.sk-label label {font-family: monospace;font-weight: bold;display: inline-block;line-height: 1.2em;}#sk-container-id-1 div.sk-label-container {text-align: center;}#sk-container-id-1 div.sk-container {/* jupyter's `normalize.less` sets `[hidden] { display: none; }` but bootstrap.min.css set `[hidden] { display: none !important; }` so we also need the `!important` here to be able to override the default hidden behavior on the sphinx rendered scikit-learn.org. See: https://github.com/scikit-learn/scikit-learn/issues/21755 */display: inline-block !important;position: relative;}#sk-container-id-1 div.sk-text-repr-fallback {display: none;}</style><div id=\"sk-container-id-1\" class=\"sk-top-container\"><div class=\"sk-text-repr-fallback\"><pre>SVC()</pre><b>In a Jupyter environment, please rerun this cell to show the HTML representation or trust the notebook. <br />On GitHub, the HTML representation is unable to render, please try loading this page with nbviewer.org.</b></div><div class=\"sk-container\" hidden><div class=\"sk-item\"><div class=\"sk-estimator sk-toggleable\"><input class=\"sk-toggleable__control sk-hidden--visually\" id=\"sk-estimator-id-1\" type=\"checkbox\" checked><label for=\"sk-estimator-id-1\" class=\"sk-toggleable__label sk-toggleable__label-arrow\">SVC</label><div class=\"sk-toggleable__content\"><pre>SVC()</pre></div></div></div></div></div>"
      ],
      "text/plain": [
       "SVC()"
      ]
     },
     "execution_count": 9,
     "metadata": {},
     "output_type": "execute_result"
    }
   ],
   "source": [
    "# Initialize and fit SVC\n",
    "svc_clf = SVC()\n",
    "svc_clf.fit(x_train.values, y_train) "
   ]
  },
  {
   "cell_type": "code",
   "execution_count": 10,
   "id": "a82d7670",
   "metadata": {},
   "outputs": [],
   "source": [
    "from art.estimators.classification.scikitlearn import ScikitlearnSVC\n",
    "scaled_clip_values_cancer = (-1., 1.)\n",
    "\n",
    "# Wrap SVC using the wrapper\n",
    "classif_svc = ScikitlearnSVC(\n",
    "    model = svc_clf,\n",
    "    clip_values = scaled_clip_values_cancer\n",
    ")"
   ]
  },
  {
   "cell_type": "code",
   "execution_count": 11,
   "id": "14f61419",
   "metadata": {},
   "outputs": [
    {
     "data": {
      "text/plain": [
       "array([[ 1.7371415 ,  0.41283384,  0.86754864, ..., -0.16270088,\n",
       "         0.68501157,  1.5905991 ],\n",
       "       [ 1.0775176 , -0.35493907, -0.2221096 , ..., -0.5847207 ,\n",
       "        -0.15169121, -0.606425  ],\n",
       "       [-0.91573083, -0.6970161 , -0.7485737 , ..., -0.703002  ,\n",
       "        -0.86948955,  0.12858231],\n",
       "       ...,\n",
       "       [-0.24974892, -0.26371852,  2.7040515 , ..., -0.47237507,\n",
       "        -0.7530331 ,  1.3957795 ],\n",
       "       [-0.9638907 , -0.71221954, -0.69960034, ..., -0.64132774,\n",
       "        -0.82927185,  1.3325151 ],\n",
       "       [-0.3696029 , -0.67421097, -0.36902982, ..., -0.7354317 ,\n",
       "        -0.606326  , -2.5562208 ]], dtype=float32)"
      ]
     },
     "execution_count": 11,
     "metadata": {},
     "output_type": "execute_result"
    }
   ],
   "source": [
    "x_train.values"
   ]
  },
  {
   "cell_type": "code",
   "execution_count": 12,
   "id": "d429162b",
   "metadata": {},
   "outputs": [
    {
     "data": {
      "text/plain": [
       "<art.attacks.evasion.lowprofool.LowProFool at 0x19649ebadf0>"
      ]
     },
     "execution_count": 12,
     "metadata": {},
     "output_type": "execute_result"
    }
   ],
   "source": [
    "from art.attacks.evasion import LowProFool\n",
    "\n",
    "lpf_svc = LowProFool(\n",
    "    classifier = classif_svc,\n",
    "    n_steps    = 15,\n",
    "    eta        = 15,\n",
    "    lambd      = 1.75,\n",
    "    eta_decay  = 0.985,\n",
    "    verbose    = True\n",
    ")\n",
    "lpf_svc.fit_importances(x_train.values, y_train)"
   ]
  },
  {
   "cell_type": "code",
   "execution_count": 13,
   "id": "7a79100d",
   "metadata": {},
   "outputs": [],
   "source": [
    "# Create random array of samples to be used as adversaries\n",
    "n_classes = lpf_svc.n_classes\n",
    "targets = np.eye(n_classes)[np.array(\n",
    "    y_test.apply(lambda x: np.random.choice([i for i in range(n_classes) if i != x]))\n",
    ")]\n",
    "\n"
   ]
  },
  {
   "cell_type": "code",
   "execution_count": 14,
   "id": "d6f63a0a",
   "metadata": {},
   "outputs": [
    {
     "data": {
      "text/plain": [
       "(13360, 10)"
      ]
     },
     "execution_count": 14,
     "metadata": {},
     "output_type": "execute_result"
    }
   ],
   "source": []
  },
  {
   "cell_type": "code",
   "execution_count": 14,
   "id": "a883c222",
   "metadata": {},
   "outputs": [
    {
     "name": "stderr",
     "output_type": "stream",
     "text": [
      "LowProFool: 100%|██████████| 15/15 [26:39<00:00, 106.63s/it]\n"
     ]
    }
   ],
   "source": [
    "# # Generate adversaries\n",
    "# adversaries = lpf_svc.generate(x=x_test.values, y=targets)"
   ]
  },
  {
   "cell_type": "code",
   "execution_count": 15,
   "id": "e7d10894",
   "metadata": {},
   "outputs": [],
   "source": [
    "adversaries = np.load(\"low_pro_fool_adversaries.npy\")"
   ]
  },
  {
   "cell_type": "code",
   "execution_count": 16,
   "id": "28ef43ec",
   "metadata": {
    "scrolled": true
   },
   "outputs": [
    {
     "data": {
      "text/plain": [
       "array([[-0.55982244, -0.36254078,  0.4757614 , ..., -0.4096874 ,\n",
       "        -0.7243561 , -0.3420553 ],\n",
       "       [-0.745914  ,  0.60287666, -0.6751136 , ...,  1.1506999 ,\n",
       "         0.7386935 , -0.8697235 ],\n",
       "       [-0.89703625, -0.7198213 , -0.7485737 , ..., -0.62033534,\n",
       "        -0.8588231 ,  0.12858231],\n",
       "       ...,\n",
       "       [-1.0559875 , -0.7046178 , -1.6545817 , ..., -0.6851947 ,\n",
       "        -0.87508506, -0.9720311 ],\n",
       "       [ 0.44384784,  0.3216133 , -0.28332636, ..., -0.01097645,\n",
       "         0.25328344, -0.606425  ],\n",
       "       [ 0.6305088 ,  1.0817845 ,  0.6961418 , ...,  2.2589543 ,\n",
       "         1.8368113 ,  0.27051824]], dtype=float32)"
      ]
     },
     "execution_count": 16,
     "metadata": {},
     "output_type": "execute_result"
    }
   ],
   "source": [
    "x_test.values"
   ]
  },
  {
   "cell_type": "code",
   "execution_count": 33,
   "id": "f02cff09",
   "metadata": {},
   "outputs": [
    {
     "data": {
      "text/plain": [
       "0.19281437125748502"
      ]
     },
     "execution_count": 33,
     "metadata": {},
     "output_type": "execute_result"
    }
   ],
   "source": [
    "from sklearn.metrics import accuracy_score, classification_report, confusion_matrix\n",
    "y_pred = svc_clf.predict(adversaries)\n",
    "\n",
    "accuracy = accuracy_score(y_pred, y_test_flag)\n",
    "accuracy"
   ]
  },
  {
   "cell_type": "code",
   "execution_count": 34,
   "id": "7dc675b0",
   "metadata": {},
   "outputs": [
    {
     "name": "stdout",
     "output_type": "stream",
     "text": [
      "              precision    recall  f1-score   support\n",
      "\n",
      "           0       0.00      0.00      0.00      1875\n",
      "           1       0.26      0.44      0.32      1465\n",
      "\n",
      "    accuracy                           0.19      3340\n",
      "   macro avg       0.13      0.22      0.16      3340\n",
      "weighted avg       0.11      0.19      0.14      3340\n",
      "\n"
     ]
    }
   ],
   "source": [
    "print(classification_report(y_pred, y_test))"
   ]
  },
  {
   "cell_type": "code",
   "execution_count": 17,
   "id": "9ce11c5b",
   "metadata": {},
   "outputs": [
    {
     "name": "stdout",
     "output_type": "stream",
     "text": [
      "Test set size: 3340\n",
      "Success rate:  80.72%\n"
     ]
    }
   ],
   "source": [
    "# Check the success rate\n",
    "expected = np.argmax(targets, axis=1)\n",
    "predicted = np.argmax(classif_svc.predict(adversaries), axis=1)\n",
    "\n",
    "correct = (expected == predicted)\n",
    "success_rate = np.sum(correct) / correct.shape[0]\n",
    "print(\"Test set size: {}\".format(targets.shape[0]))\n",
    "print(\"Success rate:  {:.2f}%\".format(100*success_rate))"
   ]
  },
  {
   "cell_type": "code",
   "execution_count": 26,
   "id": "af6ffbbf",
   "metadata": {
    "scrolled": true
   },
   "outputs": [
    {
     "name": "stderr",
     "output_type": "stream",
     "text": [
      "LowProFool: 100%|██████████| 15/15 [2:35:47<00:00, 623.16s/it] \n"
     ]
    }
   ],
   "source": [
    "# from art.attacks.evasion import LowProFool\n",
    "\n",
    "# lpf_svc = LowProFool(\n",
    "#     classifier = classif_svc,\n",
    "#     n_steps    = 15,\n",
    "#     eta        = 15,\n",
    "#     lambd      = 1.75,\n",
    "#     eta_decay  = 0.985,\n",
    "#     verbose    = True\n",
    "# )\n",
    "# lpf_svc.fit_importances(x_train.values, y_train)\n",
    "\n",
    "# Create random array of samples to be used as adversaries\n",
    "n_classes = lpf_svc.n_classes\n",
    "targets_train = np.eye(n_classes)[np.array(\n",
    "    y_train.apply(lambda x: np.random.choice([i for i in range(n_classes) if i != x]))\n",
    ")]\n",
    "# Generate adversaries\n",
    "adversaries_train = lpf_svc.generate(x=x_train.values, y=targets_train)"
   ]
  },
  {
   "cell_type": "code",
   "execution_count": 27,
   "id": "01d3d6d9",
   "metadata": {},
   "outputs": [],
   "source": [
    "np.save('adversaries_train.npy', adversaries_train)"
   ]
  },
  {
   "cell_type": "code",
   "execution_count": 28,
   "id": "435547f8",
   "metadata": {},
   "outputs": [
    {
     "data": {
      "text/html": [
       "<style>#sk-container-id-2 {color: black;background-color: white;}#sk-container-id-2 pre{padding: 0;}#sk-container-id-2 div.sk-toggleable {background-color: white;}#sk-container-id-2 label.sk-toggleable__label {cursor: pointer;display: block;width: 100%;margin-bottom: 0;padding: 0.3em;box-sizing: border-box;text-align: center;}#sk-container-id-2 label.sk-toggleable__label-arrow:before {content: \"▸\";float: left;margin-right: 0.25em;color: #696969;}#sk-container-id-2 label.sk-toggleable__label-arrow:hover:before {color: black;}#sk-container-id-2 div.sk-estimator:hover label.sk-toggleable__label-arrow:before {color: black;}#sk-container-id-2 div.sk-toggleable__content {max-height: 0;max-width: 0;overflow: hidden;text-align: left;background-color: #f0f8ff;}#sk-container-id-2 div.sk-toggleable__content pre {margin: 0.2em;color: black;border-radius: 0.25em;background-color: #f0f8ff;}#sk-container-id-2 input.sk-toggleable__control:checked~div.sk-toggleable__content {max-height: 200px;max-width: 100%;overflow: auto;}#sk-container-id-2 input.sk-toggleable__control:checked~label.sk-toggleable__label-arrow:before {content: \"▾\";}#sk-container-id-2 div.sk-estimator input.sk-toggleable__control:checked~label.sk-toggleable__label {background-color: #d4ebff;}#sk-container-id-2 div.sk-label input.sk-toggleable__control:checked~label.sk-toggleable__label {background-color: #d4ebff;}#sk-container-id-2 input.sk-hidden--visually {border: 0;clip: rect(1px 1px 1px 1px);clip: rect(1px, 1px, 1px, 1px);height: 1px;margin: -1px;overflow: hidden;padding: 0;position: absolute;width: 1px;}#sk-container-id-2 div.sk-estimator {font-family: monospace;background-color: #f0f8ff;border: 1px dotted black;border-radius: 0.25em;box-sizing: border-box;margin-bottom: 0.5em;}#sk-container-id-2 div.sk-estimator:hover {background-color: #d4ebff;}#sk-container-id-2 div.sk-parallel-item::after {content: \"\";width: 100%;border-bottom: 1px solid gray;flex-grow: 1;}#sk-container-id-2 div.sk-label:hover label.sk-toggleable__label {background-color: #d4ebff;}#sk-container-id-2 div.sk-serial::before {content: \"\";position: absolute;border-left: 1px solid gray;box-sizing: border-box;top: 0;bottom: 0;left: 50%;z-index: 0;}#sk-container-id-2 div.sk-serial {display: flex;flex-direction: column;align-items: center;background-color: white;padding-right: 0.2em;padding-left: 0.2em;position: relative;}#sk-container-id-2 div.sk-item {position: relative;z-index: 1;}#sk-container-id-2 div.sk-parallel {display: flex;align-items: stretch;justify-content: center;background-color: white;position: relative;}#sk-container-id-2 div.sk-item::before, #sk-container-id-2 div.sk-parallel-item::before {content: \"\";position: absolute;border-left: 1px solid gray;box-sizing: border-box;top: 0;bottom: 0;left: 50%;z-index: -1;}#sk-container-id-2 div.sk-parallel-item {display: flex;flex-direction: column;z-index: 1;position: relative;background-color: white;}#sk-container-id-2 div.sk-parallel-item:first-child::after {align-self: flex-end;width: 50%;}#sk-container-id-2 div.sk-parallel-item:last-child::after {align-self: flex-start;width: 50%;}#sk-container-id-2 div.sk-parallel-item:only-child::after {width: 0;}#sk-container-id-2 div.sk-dashed-wrapped {border: 1px dashed gray;margin: 0 0.4em 0.5em 0.4em;box-sizing: border-box;padding-bottom: 0.4em;background-color: white;}#sk-container-id-2 div.sk-label label {font-family: monospace;font-weight: bold;display: inline-block;line-height: 1.2em;}#sk-container-id-2 div.sk-label-container {text-align: center;}#sk-container-id-2 div.sk-container {/* jupyter's `normalize.less` sets `[hidden] { display: none; }` but bootstrap.min.css set `[hidden] { display: none !important; }` so we also need the `!important` here to be able to override the default hidden behavior on the sphinx rendered scikit-learn.org. See: https://github.com/scikit-learn/scikit-learn/issues/21755 */display: inline-block !important;position: relative;}#sk-container-id-2 div.sk-text-repr-fallback {display: none;}</style><div id=\"sk-container-id-2\" class=\"sk-top-container\"><div class=\"sk-text-repr-fallback\"><pre>SVC()</pre><b>In a Jupyter environment, please rerun this cell to show the HTML representation or trust the notebook. <br />On GitHub, the HTML representation is unable to render, please try loading this page with nbviewer.org.</b></div><div class=\"sk-container\" hidden><div class=\"sk-item\"><div class=\"sk-estimator sk-toggleable\"><input class=\"sk-toggleable__control sk-hidden--visually\" id=\"sk-estimator-id-2\" type=\"checkbox\" checked><label for=\"sk-estimator-id-2\" class=\"sk-toggleable__label sk-toggleable__label-arrow\">SVC</label><div class=\"sk-toggleable__content\"><pre>SVC()</pre></div></div></div></div></div>"
      ],
      "text/plain": [
       "SVC()"
      ]
     },
     "execution_count": 28,
     "metadata": {},
     "output_type": "execute_result"
    }
   ],
   "source": [
    "# Initialize and fit SVC\n",
    "svc_clf_attacked = SVC()\n",
    "svc_clf_attacked.fit(adversaries_train, y_train) "
   ]
  },
  {
   "cell_type": "code",
   "execution_count": 37,
   "id": "c488406a",
   "metadata": {},
   "outputs": [
    {
     "name": "stdout",
     "output_type": "stream",
     "text": [
      "              precision    recall  f1-score   support\n",
      "\n",
      "           0       1.00      1.00      1.00      3390\n",
      "           1       1.00      1.00      1.00      9970\n",
      "\n",
      "    accuracy                           1.00     13360\n",
      "   macro avg       1.00      1.00      1.00     13360\n",
      "weighted avg       1.00      1.00      1.00     13360\n",
      "\n"
     ]
    }
   ],
   "source": [
    "y_pred_adversarial = svc_clf_attacked.predict(adversaries_train)\n",
    "print(classification_report(y_train, y_pred_adversarial ))"
   ]
  },
  {
   "cell_type": "markdown",
   "id": "99ec40fc",
   "metadata": {},
   "source": [
    "## Testing Adversarially Trained Model on Real Data"
   ]
  },
  {
   "cell_type": "code",
   "execution_count": 38,
   "id": "97fd3d40",
   "metadata": {},
   "outputs": [
    {
     "name": "stdout",
     "output_type": "stream",
     "text": [
      "              precision    recall  f1-score   support\n",
      "\n",
      "           0       0.12      0.01      0.01       821\n",
      "           1       0.75      0.98      0.85      2519\n",
      "\n",
      "    accuracy                           0.74      3340\n",
      "   macro avg       0.43      0.50      0.43      3340\n",
      "weighted avg       0.60      0.74      0.65      3340\n",
      "\n"
     ]
    }
   ],
   "source": [
    "y_pred_adversarial_model_test = svc_clf_attacked.predict(x_test)\n",
    "print(classification_report(y_test, y_pred_adversarial_model_test ))"
   ]
  },
  {
   "cell_type": "markdown",
   "id": "39b257c2",
   "metadata": {},
   "source": [
    "# Comparing it with Normal SVM Result"
   ]
  },
  {
   "cell_type": "code",
   "execution_count": 40,
   "id": "46d92f1b",
   "metadata": {},
   "outputs": [
    {
     "name": "stdout",
     "output_type": "stream",
     "text": [
      "              precision    recall  f1-score   support\n",
      "\n",
      "           0       0.91      0.89      0.90       821\n",
      "           1       0.96      0.97      0.97      2519\n",
      "\n",
      "    accuracy                           0.95      3340\n",
      "   macro avg       0.93      0.93      0.93      3340\n",
      "weighted avg       0.95      0.95      0.95      3340\n",
      "\n"
     ]
    }
   ],
   "source": [
    "y_pred = svc_clf.predict(x_test)\n",
    "print(classification_report(y_test, y_pred))"
   ]
  },
  {
   "cell_type": "code",
   "execution_count": null,
   "id": "0f3f2c13",
   "metadata": {},
   "outputs": [],
   "source": []
  }
 ],
 "metadata": {
  "kernelspec": {
   "display_name": "Python 3 (ipykernel)",
   "language": "python",
   "name": "python3"
  },
  "language_info": {
   "codemirror_mode": {
    "name": "ipython",
    "version": 3
   },
   "file_extension": ".py",
   "mimetype": "text/x-python",
   "name": "python",
   "nbconvert_exporter": "python",
   "pygments_lexer": "ipython3",
   "version": "3.9.7"
  }
 },
 "nbformat": 4,
 "nbformat_minor": 5
}
