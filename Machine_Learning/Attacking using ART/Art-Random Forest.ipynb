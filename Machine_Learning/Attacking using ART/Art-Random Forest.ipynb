{
 "cells": [
  {
   "cell_type": "code",
   "execution_count": 1,
   "id": "2ec8443d",
   "metadata": {},
   "outputs": [
    {
     "name": "stderr",
     "output_type": "stream",
     "text": [
      "C:\\Users\\msi\\anaconda3\\envs\\Shayekh_20230126\\lib\\site-packages\\tqdm\\auto.py:21: TqdmWarning: IProgress not found. Please update jupyter and ipywidgets. See https://ipywidgets.readthedocs.io/en/stable/user_install.html\n",
      "  from .autonotebook import tqdm as notebook_tqdm\n"
     ]
    }
   ],
   "source": [
    "from sklearn.ensemble import RandomForestClassifier\n",
    "from sklearn.datasets import load_iris\n",
    "from sklearn.model_selection import train_test_split\n",
    "import pandas as pd\n",
    "\n",
    "import numpy as np\n",
    "from matplotlib import pyplot as plt\n",
    "\n",
    "from art.estimators.classification import SklearnClassifier\n",
    "from art.attacks.evasion import ZooAttack\n",
    "from art.utils import load_mnist\n",
    "from sklearn.ensemble import RandomForestRegressor\n",
    "from sklearn.metrics import mean_squared_error,r2_score\n",
    "import platform\n",
    "\n",
    "import warnings\n",
    "warnings.filterwarnings('ignore')"
   ]
  },
  {
   "cell_type": "code",
   "execution_count": 5,
   "id": "186852ee",
   "metadata": {},
   "outputs": [
    {
     "name": "stdout",
     "output_type": "stream",
     "text": [
      "C:\\Users\\msi\\Desktop\\Research lab\\Covid_AI_Research_Lab\n"
     ]
    }
   ],
   "source": [
    "cd \"../\""
   ]
  },
  {
   "cell_type": "code",
   "execution_count": 6,
   "id": "3b8bae40",
   "metadata": {},
   "outputs": [],
   "source": [
    "#Reading the pre_processed data\n",
    "os_type = platform.system()\n",
    "if os_type.startswith(\"Darwin\"):\n",
    "    data = pd.read_excel(r\"dataset/processed_data/main/final_cleaned_dataset.xlsx\")\n",
    "else: \n",
    "    data = pd.read_excel(r\"dataset\\processed_data\\main\\final_cleaned_dataset.xlsx\")\n",
    "#Droping the target col\n",
    "feature_value_temp = data.drop(\"Laboratory confirmed, since the beginning of the pandemic Hospitalized\", axis=1)\n",
    "#Droping the Distric col as it is string and will be assigned value by clustering\n",
    "features = feature_value_temp.drop(\"District\",axis=1)\n",
    "target_col = data[\"Laboratory confirmed, since the beginning of the pandemic Hospitalized\"]"
   ]
  },
  {
   "cell_type": "code",
   "execution_count": 112,
   "id": "1814089c",
   "metadata": {},
   "outputs": [],
   "source": [
    "X_train, X_test, y_train, y_test = train_test_split(features, target_col, test_size=0.3, random_state=29)"
   ]
  },
  {
   "cell_type": "code",
   "execution_count": null,
   "id": "198893ee",
   "metadata": {},
   "outputs": [],
   "source": []
  },
  {
   "cell_type": "code",
   "execution_count": 113,
   "id": "22b0315c",
   "metadata": {},
   "outputs": [],
   "source": [
    "# Create a mapping between column names and numbers\n",
    "def convert_to_numbers(df):\n",
    "    column_mapping = {col: i for i, col in enumerate(df.columns)}\n",
    "    df.rename(columns=column_mapping, inplace=True)\n",
    "\n",
    "convert_to_numbers(X_train)\n",
    "convert_to_numbers(X_test)"
   ]
  },
  {
   "cell_type": "code",
   "execution_count": 81,
   "id": "87983fec",
   "metadata": {},
   "outputs": [
    {
     "data": {
      "text/plain": [
       "(11690, 10)"
      ]
     },
     "execution_count": 81,
     "metadata": {},
     "output_type": "execute_result"
    }
   ],
   "source": [
    "X_train.shape"
   ]
  },
  {
   "cell_type": "code",
   "execution_count": 78,
   "id": "92febad8",
   "metadata": {},
   "outputs": [
    {
     "name": "stdout",
     "output_type": "stream",
     "text": [
      "Root Mean Squared Error: 23.37818172449867\n",
      "Mean Squared Error: 546.5393807436836\n",
      "R2 Score: 0.9957503364591642\n"
     ]
    }
   ],
   "source": [
    "from math import sqrt\n",
    "RF_model = RandomForestRegressor(n_estimators = 236 ,random_state= 22)\n",
    "RF_model.fit(X_train,y_train)\n",
    "y_pred = RF_model.predict(X_test)\n",
    "mse = mean_squared_error(y_test, y_pred)\n",
    "rmse = sqrt(mse)\n",
    "print(f\"Root Mean Squared Error: {rmse}\")\n",
    "print(f\"Mean Squared Error: {mse}\")\n",
    "print(\"R2 Score:\", r2_score(y_test, y_pred))\n",
    "\n",
    "model = RF_model"
   ]
  },
  {
   "cell_type": "code",
   "execution_count": 68,
   "id": "b1783ab3",
   "metadata": {},
   "outputs": [],
   "source": [
    "from art.estimators.classification import SklearnClassifier"
   ]
  },
  {
   "cell_type": "code",
   "execution_count": 75,
   "id": "6c68c93b",
   "metadata": {},
   "outputs": [],
   "source": [
    "from art.estimators.regression import ScikitlearnRegressor"
   ]
  },
  {
   "cell_type": "code",
   "execution_count": 76,
   "id": "7a6e5337",
   "metadata": {},
   "outputs": [],
   "source": [
    "#ATTACKING"
   ]
  },
  {
   "cell_type": "code",
   "execution_count": 114,
   "id": "2f43a019",
   "metadata": {
    "scrolled": true
   },
   "outputs": [
    {
     "data": {
      "text/html": [
       "<style>#sk-container-id-2 {color: black;background-color: white;}#sk-container-id-2 pre{padding: 0;}#sk-container-id-2 div.sk-toggleable {background-color: white;}#sk-container-id-2 label.sk-toggleable__label {cursor: pointer;display: block;width: 100%;margin-bottom: 0;padding: 0.3em;box-sizing: border-box;text-align: center;}#sk-container-id-2 label.sk-toggleable__label-arrow:before {content: \"▸\";float: left;margin-right: 0.25em;color: #696969;}#sk-container-id-2 label.sk-toggleable__label-arrow:hover:before {color: black;}#sk-container-id-2 div.sk-estimator:hover label.sk-toggleable__label-arrow:before {color: black;}#sk-container-id-2 div.sk-toggleable__content {max-height: 0;max-width: 0;overflow: hidden;text-align: left;background-color: #f0f8ff;}#sk-container-id-2 div.sk-toggleable__content pre {margin: 0.2em;color: black;border-radius: 0.25em;background-color: #f0f8ff;}#sk-container-id-2 input.sk-toggleable__control:checked~div.sk-toggleable__content {max-height: 200px;max-width: 100%;overflow: auto;}#sk-container-id-2 input.sk-toggleable__control:checked~label.sk-toggleable__label-arrow:before {content: \"▾\";}#sk-container-id-2 div.sk-estimator input.sk-toggleable__control:checked~label.sk-toggleable__label {background-color: #d4ebff;}#sk-container-id-2 div.sk-label input.sk-toggleable__control:checked~label.sk-toggleable__label {background-color: #d4ebff;}#sk-container-id-2 input.sk-hidden--visually {border: 0;clip: rect(1px 1px 1px 1px);clip: rect(1px, 1px, 1px, 1px);height: 1px;margin: -1px;overflow: hidden;padding: 0;position: absolute;width: 1px;}#sk-container-id-2 div.sk-estimator {font-family: monospace;background-color: #f0f8ff;border: 1px dotted black;border-radius: 0.25em;box-sizing: border-box;margin-bottom: 0.5em;}#sk-container-id-2 div.sk-estimator:hover {background-color: #d4ebff;}#sk-container-id-2 div.sk-parallel-item::after {content: \"\";width: 100%;border-bottom: 1px solid gray;flex-grow: 1;}#sk-container-id-2 div.sk-label:hover label.sk-toggleable__label {background-color: #d4ebff;}#sk-container-id-2 div.sk-serial::before {content: \"\";position: absolute;border-left: 1px solid gray;box-sizing: border-box;top: 0;bottom: 0;left: 50%;z-index: 0;}#sk-container-id-2 div.sk-serial {display: flex;flex-direction: column;align-items: center;background-color: white;padding-right: 0.2em;padding-left: 0.2em;position: relative;}#sk-container-id-2 div.sk-item {position: relative;z-index: 1;}#sk-container-id-2 div.sk-parallel {display: flex;align-items: stretch;justify-content: center;background-color: white;position: relative;}#sk-container-id-2 div.sk-item::before, #sk-container-id-2 div.sk-parallel-item::before {content: \"\";position: absolute;border-left: 1px solid gray;box-sizing: border-box;top: 0;bottom: 0;left: 50%;z-index: -1;}#sk-container-id-2 div.sk-parallel-item {display: flex;flex-direction: column;z-index: 1;position: relative;background-color: white;}#sk-container-id-2 div.sk-parallel-item:first-child::after {align-self: flex-end;width: 50%;}#sk-container-id-2 div.sk-parallel-item:last-child::after {align-self: flex-start;width: 50%;}#sk-container-id-2 div.sk-parallel-item:only-child::after {width: 0;}#sk-container-id-2 div.sk-dashed-wrapped {border: 1px dashed gray;margin: 0 0.4em 0.5em 0.4em;box-sizing: border-box;padding-bottom: 0.4em;background-color: white;}#sk-container-id-2 div.sk-label label {font-family: monospace;font-weight: bold;display: inline-block;line-height: 1.2em;}#sk-container-id-2 div.sk-label-container {text-align: center;}#sk-container-id-2 div.sk-container {/* jupyter's `normalize.less` sets `[hidden] { display: none; }` but bootstrap.min.css set `[hidden] { display: none !important; }` so we also need the `!important` here to be able to override the default hidden behavior on the sphinx rendered scikit-learn.org. See: https://github.com/scikit-learn/scikit-learn/issues/21755 */display: inline-block !important;position: relative;}#sk-container-id-2 div.sk-text-repr-fallback {display: none;}</style><div id=\"sk-container-id-2\" class=\"sk-top-container\"><div class=\"sk-text-repr-fallback\"><pre>RandomForestRegressor(n_estimators=236, random_state=22)</pre><b>In a Jupyter environment, please rerun this cell to show the HTML representation or trust the notebook. <br />On GitHub, the HTML representation is unable to render, please try loading this page with nbviewer.org.</b></div><div class=\"sk-container\" hidden><div class=\"sk-item\"><div class=\"sk-estimator sk-toggleable\"><input class=\"sk-toggleable__control sk-hidden--visually\" id=\"sk-estimator-id-2\" type=\"checkbox\" checked><label for=\"sk-estimator-id-2\" class=\"sk-toggleable__label sk-toggleable__label-arrow\">RandomForestRegressor</label><div class=\"sk-toggleable__content\"><pre>RandomForestRegressor(n_estimators=236, random_state=22)</pre></div></div></div></div></div>"
      ],
      "text/plain": [
       "RandomForestRegressor(n_estimators=236, random_state=22)"
      ]
     },
     "execution_count": 114,
     "metadata": {},
     "output_type": "execute_result"
    }
   ],
   "source": [
    "# num_samples = X_train.shape[0]\n",
    "# y_train = np.random.randint(2, size=num_samples)\n",
    "\n",
    "RF_model = RandomForestRegressor(n_estimators = 236 ,random_state= 22)\n",
    "RF_model.fit(X_train,y_train)"
   ]
  },
  {
   "cell_type": "code",
   "execution_count": 118,
   "id": "bb219e1b",
   "metadata": {},
   "outputs": [
    {
     "ename": "TypeError",
     "evalue": "__init__() got an unexpected keyword argument 'regressor'",
     "output_type": "error",
     "traceback": [
      "\u001b[1;31m---------------------------------------------------------------------------\u001b[0m",
      "\u001b[1;31mTypeError\u001b[0m                                 Traceback (most recent call last)",
      "Input \u001b[1;32mIn [118]\u001b[0m, in \u001b[0;36m<cell line: 2>\u001b[1;34m()\u001b[0m\n\u001b[0;32m      1\u001b[0m art_classifier \u001b[38;5;241m=\u001b[39m ScikitlearnRegressor(model\u001b[38;5;241m=\u001b[39mRF_model)\n\u001b[1;32m----> 2\u001b[0m zoo \u001b[38;5;241m=\u001b[39m \u001b[43mZooAttack\u001b[49m\u001b[43m(\u001b[49m\u001b[43mregressor\u001b[49m\u001b[38;5;241;43m=\u001b[39;49m\u001b[43mart_classifier\u001b[49m\u001b[43m,\u001b[49m\u001b[43m \u001b[49m\u001b[43mnb_parallel\u001b[49m\u001b[38;5;241;43m=\u001b[39;49m\u001b[38;5;241;43m10\u001b[39;49m\u001b[43m,\u001b[49m\u001b[43m \u001b[49m\u001b[43mbatch_size\u001b[49m\u001b[38;5;241;43m=\u001b[39;49m\u001b[38;5;241;43m1\u001b[39;49m\u001b[43m,\u001b[49m\u001b[43m \u001b[49m\u001b[43mvariable_h\u001b[49m\u001b[38;5;241;43m=\u001b[39;49m\u001b[38;5;241;43m0.25\u001b[39;49m\u001b[43m)\u001b[49m\n\u001b[0;32m      3\u001b[0m x_train_adv \u001b[38;5;241m=\u001b[39m zoo\u001b[38;5;241m.\u001b[39mgenerate(X_train\u001b[38;5;241m.\u001b[39mvalues,y_train)\n",
      "\u001b[1;31mTypeError\u001b[0m: __init__() got an unexpected keyword argument 'regressor'"
     ]
    }
   ],
   "source": [
    "art_classifier = ScikitlearnRegressor(model=RF_model)\n",
    "zoo = ZooAttack(regressor=art_classifier, nb_parallel=10, batch_size=1, variable_h=0.25)\n",
    "x_train_adv = zoo.generate(X_train.values,y_train)"
   ]
  },
  {
   "cell_type": "code",
   "execution_count": 86,
   "id": "c1743ef0",
   "metadata": {},
   "outputs": [],
   "source": [
    "art_classifier = SklearnClassifier(model=RF_model)\n",
    "zoo = ZooAttack(classifier=art_classifier, nb_parallel=10, batch_size=1, variable_h=0.25)\n",
    "x_train_adv = zoo.generate(X_train.values,y_train)"
   ]
  },
  {
   "cell_type": "code",
   "execution_count": null,
   "id": "b59d40ff",
   "metadata": {},
   "outputs": [],
   "source": []
  },
  {
   "cell_type": "code",
   "execution_count": 96,
   "id": "1cb2b48f",
   "metadata": {},
   "outputs": [
    {
     "name": "stdout",
     "output_type": "stream",
     "text": [
      "Base model score:  0.9838493551825755\n"
     ]
    }
   ],
   "source": [
    "from sklearn.tree import DecisionTreeRegressor\n",
    "from art.estimators.regression.scikitlearn import ScikitlearnRegressor\n",
    "\n",
    "model = DecisionTreeRegressor()\n",
    "model.fit(X_train, y_train)\n",
    "art_regressor = ScikitlearnRegressor(model)\n",
    "\n",
    "print('Base model score: ', model.score(X_test, y_test))"
   ]
  },
  {
   "cell_type": "code",
   "execution_count": 109,
   "id": "5d1509f4",
   "metadata": {},
   "outputs": [
    {
     "name": "stdout",
     "output_type": "stream",
     "text": [
      "0.0\n"
     ]
    }
   ],
   "source": [
    "import numpy as np\n",
    "from art.attacks.inference.attribute_inference import AttributeInferenceBlackBox\n",
    "\n",
    "attack_train_ratio = 0.5\n",
    "attack_train_size = int(len(X_train) * attack_train_ratio)\n",
    "attack_x_train = X_train[:attack_train_size].values\n",
    "attack_y_train = y_train[:attack_train_size]\n",
    "attack_x_test = X_train[attack_train_size:].values\n",
    "attack_y_test = y_train[attack_train_size:]\n",
    "\n",
    "attack_feature = 2  # sex\n",
    "\n",
    "# get original model's predictions\n",
    "attack_x_test_predictions = np.array([np.argmax(arr) for arr in art_regressor.predict(attack_x_test)]).reshape(-1,1)\n",
    "# only attacked feature\n",
    "attack_x_test_feature = attack_x_test[:, attack_feature].copy().reshape(-1, 1)\n",
    "# training data without attacked feature\n",
    "attack_x_test = np.delete(attack_x_test, attack_feature, 1)\n",
    "\n",
    "bb_attack = AttributeInferenceBlackBox(art_regressor, attack_feature=attack_feature, is_continuous = True)\n",
    "\n",
    "# train attack model\n",
    "bb_attack.fit(attack_x_train)\n",
    "\n",
    "\n",
    "# get inferred values\n",
    "values = [6084,  35802.5  ]\n",
    "inferred_train_bb = bb_attack.infer(attack_x_test, pred=attack_x_test_predictions)\n",
    "# check accuracy\n",
    "train_acc = np.sum(inferred_train_bb == np.around(attack_x_test_feature, decimals=8).reshape(1,-1)) / len(inferred_train_bb)\n",
    "print(train_acc)"
   ]
  },
  {
   "cell_type": "code",
   "execution_count": 106,
   "id": "5eebf2bc",
   "metadata": {},
   "outputs": [
    {
     "name": "stdout",
     "output_type": "stream",
     "text": [
      "0.0\n"
     ]
    }
   ],
   "source": []
  },
  {
   "cell_type": "code",
   "execution_count": null,
   "id": "42b02625",
   "metadata": {},
   "outputs": [],
   "source": []
  }
 ],
 "metadata": {
  "kernelspec": {
   "display_name": "Python 3 (ipykernel)",
   "language": "python",
   "name": "python3"
  },
  "language_info": {
   "codemirror_mode": {
    "name": "ipython",
    "version": 3
   },
   "file_extension": ".py",
   "mimetype": "text/x-python",
   "name": "python",
   "nbconvert_exporter": "python",
   "pygments_lexer": "ipython3",
   "version": "3.9.7"
  }
 },
 "nbformat": 4,
 "nbformat_minor": 5
}
