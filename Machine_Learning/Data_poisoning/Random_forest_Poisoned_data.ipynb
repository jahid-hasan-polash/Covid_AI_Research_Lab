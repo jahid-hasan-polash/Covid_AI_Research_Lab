{
 "cells": [
  {
   "cell_type": "code",
   "execution_count": 1,
   "id": "6f1273f6",
   "metadata": {},
   "outputs": [],
   "source": [
    "import pandas as pd\n",
    "import numpy as np\n",
    "from sklearn.model_selection import train_test_split\n",
    "from sklearn.ensemble import RandomForestClassifier\n",
    "from sklearn.metrics import accuracy_score, recall_score, precision_score, f1_score\n",
    "import warnings\n",
    "warnings.filterwarnings('ignore')"
   ]
  },
  {
   "cell_type": "code",
   "execution_count": 2,
   "id": "7882d30f",
   "metadata": {},
   "outputs": [
    {
     "name": "stdout",
     "output_type": "stream",
     "text": [
      "/Users/jahidhasanpolash/Documents/Study/Summer2023/Covid_AI_Research_Lab\n"
     ]
    }
   ],
   "source": [
    "cd \"../../\""
   ]
  },
  {
   "cell_type": "code",
   "execution_count": 3,
   "id": "5a7f6bd3",
   "metadata": {},
   "outputs": [],
   "source": [
    "def load_data():\n",
    "    data = np.load('label_flipping_poisoned_target_data.npy')\n",
    "    \n",
    "    target_col = data['poisoned_target_col']\n",
    "    features = data.drop(\"poisoned_target_col\",axis=1)\n",
    "    return features, target_col"
   ]
  },
  {
   "cell_type": "code",
   "execution_count": null,
   "id": "1c417552",
   "metadata": {},
   "outputs": [],
   "source": [
    "features, target_col"
   ]
  }
 ],
 "metadata": {
  "kernelspec": {
   "display_name": "Python 3 (ipykernel)",
   "language": "python",
   "name": "python3"
  },
  "language_info": {
   "codemirror_mode": {
    "name": "ipython",
    "version": 3
   },
   "file_extension": ".py",
   "mimetype": "text/x-python",
   "name": "python",
   "nbconvert_exporter": "python",
   "pygments_lexer": "ipython3",
   "version": "3.11.4"
  }
 },
 "nbformat": 4,
 "nbformat_minor": 5
}
