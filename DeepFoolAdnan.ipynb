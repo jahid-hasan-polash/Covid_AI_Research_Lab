{
 "cells": [
  {
   "cell_type": "code",
   "execution_count": 3,
   "id": "b910dc77",
   "metadata": {},
   "outputs": [],
   "source": [
    "import os\n",
    "import platform\n",
    "import pandas as pd\n",
    "import numpy as np\n",
    "from math import sqrt\n",
    "from sklearn.model_selection import train_test_split\n",
    "from sklearn.ensemble import RandomForestClassifier\n",
    "from sklearn.metrics import mean_squared_error, r2_score, accuracy_score, recall_score, precision_score, f1_score\n",
    "from art.estimators.classification import SklearnClassifier\n",
    "from art.attacks.evasion import DeepFool"
   ]
  },
  {
   "cell_type": "code",
   "execution_count": 2,
   "id": "0dbb385b",
   "metadata": {},
   "outputs": [],
   "source": [
    "# Suppress warnings\n",
    "import warnings\n",
    "warnings.filterwarnings('ignore')"
   ]
  },
  {
   "cell_type": "code",
   "execution_count": 3,
   "id": "f8e90879",
   "metadata": {},
   "outputs": [],
   "source": [
    "# Function to load the dataset based on the operating system\n",
    "def load_dataset():\n",
    "    os_type = platform.system()\n",
    "    if os_type.startswith(\"Darwin\"):\n",
    "        dataset_path = \"dataset/processed_data/main/final_cleaned_dataset.xlsx\"\n",
    "    else:\n",
    "        dataset_path = \"dataset\\\\processed_data\\\\main\\\\final_cleaned_dataset.xlsx\"\n",
    "    return pd.read_excel(dataset_path)"
   ]
  },
  {
   "cell_type": "code",
   "execution_count": 4,
   "id": "02a16b8b",
   "metadata": {},
   "outputs": [],
   "source": [
    "# Function to preprocess the dataset\n",
    "def preprocess_dataset(data):\n",
    "    # Remove unnecessary columns\n",
    "    feature_value_temp = data.drop(\"Laboratory confirmed, since the beginning of the pandemic Hospitalized\", axis=1)\n",
    "    features = feature_value_temp.drop([\"District\", \"Unnamed: 0\", \"Laboratory confirmed, since the beginning of the pandemic TOTAL\",\n",
    "                                       \"Laboratory confirmed, since the beginning of the pandemic RecoveredA\",\n",
    "                                       \"Laboratory confirmed, since the beginning of the pandemic Deceased\"], axis=1)\n",
    "\n",
    "    # Create target column\n",
    "    data['flag'] = 3  # Initialize the 'flag' column with 0\n",
    "    data.loc[data['Laboratory confirmed, since the beginning of the pandemic Hospitalized'] <= 449, 'flag'] = 2\n",
    "    data.loc[data['Laboratory confirmed, since the beginning of the pandemic Hospitalized'] <= 290, 'flag'] = 1\n",
    "\n",
    "    target_col = data[\"flag\"]\n",
    "\n",
    "    return features, target_col"
   ]
  },
  {
   "cell_type": "code",
   "execution_count": 5,
   "id": "dc367ce7",
   "metadata": {},
   "outputs": [],
   "source": [
    "\n",
    "# Function to train a Random Forest classifier\n",
    "def train_random_forest_classifier(X_train, y_train):\n",
    "    model = RandomForestClassifier(n_estimators=50, random_state=22)\n",
    "    model.fit(X=X_train, y=y_train)\n",
    "    return model\n"
   ]
  },
  {
   "cell_type": "code",
   "execution_count": 6,
   "id": "4a62c11a",
   "metadata": {},
   "outputs": [],
   "source": [
    "\n",
    "# Function to evaluate a classifier and print performance metrics\n",
    "def evaluate_classifier(model, X_test, y_test):\n",
    "    y_pred = model.predict(X_test)\n",
    "    mse = mean_squared_error(y_test, y_pred)\n",
    "    rmse = sqrt(mse)\n",
    "    print(f\"Root Mean Squared Error: {rmse}\")\n",
    "    print(f\"Mean Squared Error: {mse}\")\n",
    "    print(\"R2 Score:\", r2_score(y_test, y_pred))\n",
    "\n",
    "    accuracy = accuracy_score(y_test, y_pred)\n",
    "    recall = recall_score(y_test, y_pred, average='weighted')\n",
    "    precision = precision_score(y_test, y_pred, average='weighted')\n",
    "    f1 = f1_score(y_test, y_pred, average='weighted')\n",
    "\n",
    "    print(f\"Accuracy: {accuracy:.2f}\")\n",
    "    print(f\"Recall: {recall:.2f}\")\n",
    "    print(f\"Precision: {precision:.2f}\")\n",
    "    print(f\"F1 Score: {f1:.2f}\")\n"
   ]
  },
  {
   "cell_type": "code",
   "execution_count": 7,
   "id": "ad7767dd",
   "metadata": {},
   "outputs": [],
   "source": [
    "\n",
    "# Main function\n",
    "def main():\n",
    "    # Load the dataset\n",
    "    data = load_dataset()\n",
    "\n",
    "    # Preprocess the dataset\n",
    "    features, target_col = preprocess_dataset(data)\n",
    "\n",
    "    # Split the data into train and test sets\n",
    "    X_train, X_test, y_train, y_test = train_test_split(features, target_col, test_size=0.3, random_state=42)\n",
    "\n",
    "    # Train a Random Forest classifier\n",
    "    model = train_random_forest_classifier(X_train, y_train)\n",
    "\n",
    "    # Create ART classifier for scikit-learn RandomForestClassifier\n",
    "    art_classifier = SklearnClassifier(model=model)\n",
    "\n",
    "    # Create ART DeepFool attack\n",
    "    deepfool = DeepFool(classifier=art_classifier, max_iter=50, epsilon=1e-2, batch_size=1)\n",
    "\n",
    "    # Generate adversarial samples with ART DeepFool attack\n",
    "    x_train_adv = deepfool.generate(X_train.values)\n",
    "    x_test_adv = deepfool.generate(X_test.values)\n",
    "\n",
    "    # Save the adversarial test data\n",
    "    np.save('x_test_adv.npy', x_test_adv)\n",
    "\n",
    "    # Evaluate and print the model scores\n",
    "    print(\"Normal Training Score:\")\n",
    "    evaluate_classifier(model, X_train, y_train)\n",
    "\n",
    "    print(\"\\nAdversarial Training Score:\")\n",
    "    evaluate_classifier(model, x_train_adv, y_train)\n",
    "\n",
    "    print(\"\\nNormal Test Score:\")\n",
    "    evaluate_classifier(model, X_test, y_test)\n",
    "\n",
    "    print(\"\\nAdversarial Test Score:\")\n",
    "    evaluate_classifier(model, x_test_adv, y_test)\n"
   ]
  },
  {
   "cell_type": "code",
   "execution_count": null,
   "id": "20360822",
   "metadata": {},
   "outputs": [],
   "source": [
    "\n",
    "if _name_ == \"_main_\":\n",
    "    main()"
   ]
  }
 ],
 "metadata": {
  "kernelspec": {
   "display_name": "Python 3 (ipykernel)",
   "language": "python",
   "name": "python3"
  },
  "language_info": {
   "codemirror_mode": {
    "name": "ipython",
    "version": 3
   },
   "file_extension": ".py",
   "mimetype": "text/x-python",
   "name": "python",
   "nbconvert_exporter": "python",
   "pygments_lexer": "ipython3",
   "version": "3.11.4"
  }
 },
 "nbformat": 4,
 "nbformat_minor": 5
}
