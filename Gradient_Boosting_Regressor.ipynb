{
 "cells": [
  {
   "cell_type": "code",
   "execution_count": 17,
   "id": "d4738056",
   "metadata": {},
   "outputs": [],
   "source": [
    "import pandas as pd\n",
    "from sklearn.ensemble import GradientBoostingRegressor\n",
    "import sklearn.metrics as metrics\n",
    "\n",
    "\n"
   ]
  },
  {
   "cell_type": "code",
   "execution_count": 18,
   "id": "26eea43c",
   "metadata": {},
   "outputs": [],
   "source": [
    "#Reading the pre_processed data\n",
    "data = pd.read_excel(r\"dataset/processed_data/main/final_cleaned_dataset.xlsx\")\n",
    "\n",
    "\n",
    "feature_value_temp = data.drop(\"Laboratory confirmed, since the beginning of the pandemic Hospitalized\", axis=1)\n",
    "features = feature_value_temp.drop(\"District\", axis=1)\n",
    "features.columns = [col.replace('[', '_').replace(']', '_') for col in features.columns]\n"
   ]
  },
  {
   "cell_type": "code",
   "execution_count": 19,
   "id": "965fd07b",
   "metadata": {},
   "outputs": [
    {
     "name": "stdout",
     "output_type": "stream",
     "text": [
      "Mean Squared Error: 12839.923728733203\n",
      "R2 Score: 0.9035009330047729\n"
     ]
    }
   ],
   "source": [
    "r2_score = metrics.r2_score\n",
    "\n",
    "# Splitting the data into train and test sets\n",
    "X_train, X_test, y_train, y_test = train_test_split(features, target_col, test_size=0.3, random_state=22)\n",
    "\n",
    "# Instantiating the gradient boosting regressor model\n",
    "gb_reg = GradientBoostingRegressor()\n",
    "\n",
    "# Fitting the model to the training data\n",
    "gb_reg.fit(X_train, y_train)\n",
    "\n",
    "# Predicting the test set results\n",
    "y_pred = gb_reg.predict(X_test)\n",
    "\n",
    "# Evaluating the model performance\n",
    "print(\"Mean Squared Error:\", mean_squared_error(y_test, y_pred))\n",
    "print(\"R2 Score:\", r2_score(y_test, y_pred))"
   ]
  }
 ],
 "metadata": {
  "kernelspec": {
   "display_name": "Python 3 (ipykernel)",
   "language": "python",
   "name": "python3"
  },
  "language_info": {
   "codemirror_mode": {
    "name": "ipython",
    "version": 3
   },
   "file_extension": ".py",
   "mimetype": "text/x-python",
   "name": "python",
   "nbconvert_exporter": "python",
   "pygments_lexer": "ipython3",
   "version": "3.9.13"
  }
 },
 "nbformat": 4,
 "nbformat_minor": 5
}
