{
 "cells": [
  {
   "cell_type": "code",
   "execution_count": 1,
   "id": "d4738056",
   "metadata": {},
   "outputs": [],
   "source": [
    "import pandas as pd\n",
    "from sklearn.ensemble import GradientBoostingRegressor\n",
    "import sklearn.metrics as metrics\n",
    "from sklearn.model_selection import train_test_split\n",
    "import platform"
   ]
  },
  {
   "cell_type": "code",
   "execution_count": 2,
   "id": "26eea43c",
   "metadata": {},
   "outputs": [],
   "source": [
    "#Reading the pre_processed data\n",
    "os_type = platform.system()\n",
    "\n",
    "#Reading the pre_processed data\n",
    "if os_type.startswith(\"Darwin\"):\n",
    "    data = pd.read_excel(r\"dataset/processed_data/main/final_cleaned_dataset.xlsx\")\n",
    "else: \n",
    "    data = pd.read_excel(r\"dataset\\processed_data\\main\\final_cleaned_dataset.xlsx\")\n",
    "\n",
    "feature_value_temp = data.drop(\"Laboratory confirmed, since the beginning of the pandemic Hospitalized\", axis=1)\n",
    "features = feature_value_temp.drop(\"District\", axis=1)\n",
    "features.columns = [col.replace('[', '_').replace(']', '_') for col in features.columns]\n",
    "target_col = data[\"Laboratory confirmed, since the beginning of the pandemic Hospitalized\"]"
   ]
  },
  {
   "cell_type": "code",
   "execution_count": 11,
   "id": "965fd07b",
   "metadata": {},
   "outputs": [
    {
     "name": "stdout",
     "output_type": "stream",
     "text": [
      "Root Mean Squared Error: 110.01504195781793\n",
      "Mean Squared Error:12103.30945698044\n",
      "R2 Score: 0.9076136873431098\n",
      "4881      814\n",
      "7606      342\n",
      "1739      259\n",
      "16676     563\n",
      "4560      214\n",
      "         ... \n",
      "7632      607\n",
      "12382    1001\n",
      "13314    1015\n",
      "11526     434\n",
      "13198     551\n",
      "Name: Laboratory confirmed, since the beginning of the pandemic Hospitalized, Length: 5010, dtype: int64\n",
      "[491.87314821 260.1725966  248.86830689 ... 756.48501529 510.59588887\n",
      " 725.29250784]\n"
     ]
    }
   ],
   "source": [
    "from math import sqrt\n",
    "r2_score = metrics.r2_score\n",
    "\n",
    "# Splitting the data into train and test sets\n",
    "X_train, X_test, y_train, y_test = train_test_split(features, target_col, test_size=0.3, random_state=42)\n",
    "\n",
    "# Instantiating the gradient boosting regressor model\n",
    "gb_reg = GradientBoostingRegressor()\n",
    "\n",
    "# Fitting the model to the training data\n",
    "gb_reg.fit(X_train, y_train)\n",
    "\n",
    "# Predicting the test set results\n",
    "y_pred = gb_reg.predict(X_test)\n",
    "\n",
    "# Evaluating the model performance\n",
    "mse =  metrics.mean_squared_error(y_test, y_pred)\n",
    "rmse = sqrt(mse)\n",
    "print(f\"Root Mean Squared Error: {rmse}\")\n",
    "print(f\"Mean Squared Error:{mse}\")\n",
    "print(\"R2 Score:\", metrics.r2_score(y_test, y_pred))\n",
    "print(y_test)\n",
    "print(y_pred)"
   ]
  },
  {
   "cell_type": "code",
   "execution_count": null,
   "id": "d6471141",
   "metadata": {},
   "outputs": [],
   "source": []
  }
 ],
 "metadata": {
  "kernelspec": {
   "display_name": "Python 3 (ipykernel)",
   "language": "python",
   "name": "python3"
  },
  "language_info": {
   "codemirror_mode": {
    "name": "ipython",
    "version": 3
   },
   "file_extension": ".py",
   "mimetype": "text/x-python",
   "name": "python",
   "nbconvert_exporter": "python",
   "pygments_lexer": "ipython3",
   "version": "3.9.7"
  }
 },
 "nbformat": 4,
 "nbformat_minor": 5
}
