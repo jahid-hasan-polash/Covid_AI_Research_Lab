{
 "cells": [
  {
   "cell_type": "code",
   "execution_count": 1,
   "id": "58c596de",
   "metadata": {},
   "outputs": [],
   "source": [
    "import pandas as pd\n",
    "from sklearn.model_selection import train_test_split, GridSearchCV  # Corrected import\n",
    "from sklearn.neighbors import KNeighborsRegressor\n",
    "from sklearn.metrics import mean_squared_error,r2_score\n",
    "import platform"
   ]
  },
  {
   "cell_type": "code",
   "execution_count": 2,
   "id": "43349bcd",
   "metadata": {},
   "outputs": [],
   "source": [
    "#Reading the pre_processed data\n",
    "os_type = platform.system()\n",
    "if os_type.startswith(\"Darwin\"):\n",
    "    data = pd.read_excel(r\"dataset/processed_data/main/final_cleaned_dataset.xlsx\")\n",
    "else: \n",
    "    data = pd.read_excel(r\"dataset\\processed_data\\main\\final_cleaned_dataset.xlsx\")\n",
    "#Droping the target col\n",
    "feature_value_temp = data.drop(\"Laboratory confirmed, since the beginning of the pandemic Hospitalized\", axis=1)\n",
    "#Droping the Distric col as it is string and will be assigned value by clustering\n",
    "features = feature_value_temp.drop(\"District\",axis=1)\n",
    "target_col = data[\"Laboratory confirmed, since the beginning of the pandemic Hospitalized\"]"
   ]
  },
  {
   "cell_type": "code",
   "execution_count": 14,
   "id": "04864cc0",
   "metadata": {},
   "outputs": [
    {
     "name": "stdout",
     "output_type": "stream",
     "text": [
      "Ideal number of neighbors: 2\n"
     ]
    }
   ],
   "source": [
    "# Split the data into training and validation sets\n",
    "X_train, X_val, y_train, y_val = train_test_split(features, target_col, test_size=0.3, random_state=42)\n",
    "\n",
    "# Define a range of neighbor values to test\n",
    "neighbor_range = range(1, 21)\n",
    "\n",
    "# Initialize variables to track best parameters and performance\n",
    "best_mse = float('inf')\n",
    "ideal_neighbors = None\n",
    "\n",
    "# Iterate over different neighbor values\n",
    "for n_neighbors in neighbor_range:\n",
    "    knn_regressor = KNeighborsRegressor(n_neighbors=n_neighbors)\n",
    "    knn_regressor.fit(X_train, y_train)\n",
    "    y_val_pred = knn_regressor.predict(X_val)\n",
    "    mse = mean_squared_error(y_val, y_val_pred)\n",
    "    \n",
    "    if mse < best_mse:\n",
    "        best_mse = mse\n",
    "        ideal_neighbors = n_neighbors\n",
    "\n",
    "print(f\"Ideal number of neighbors: {ideal_neighbors}\")"
   ]
  },
  {
   "cell_type": "code",
   "execution_count": 18,
   "id": "000febe6",
   "metadata": {},
   "outputs": [
    {
     "name": "stdout",
     "output_type": "stream",
     "text": [
      "Root Mean Squared Error: 52.15231033284999\n",
      "Mean Squared Error: 2719.863473053892\n",
      "R2 Score: 0.9792388884958493\n",
      "4881      814\n",
      "7606      342\n",
      "1739      259\n",
      "16676     563\n",
      "4560      214\n",
      "         ... \n",
      "7632      607\n",
      "12382    1001\n",
      "13314    1015\n",
      "11526     434\n",
      "13198     551\n",
      "Name: Laboratory confirmed, since the beginning of the pandemic Hospitalized, Length: 5010, dtype: int64\n",
      "[ 814.5  346.5  259.  ... 1012.5  553.   548.5]\n"
     ]
    }
   ],
   "source": [
    "from math import sqrt\n",
    "# Split the data into training and testing sets\n",
    "X_train, X_test, y_train, y_test = train_test_split(features, target_col, test_size=0.3, random_state=42)\n",
    "\n",
    "# Create the KNN Regressor model\n",
    "knn_regressor = KNeighborsRegressor(n_neighbors=2)  # You can adjust the number of neighbors as needed\n",
    "\n",
    "# Fit the model to the training data\n",
    "knn_regressor.fit(X_train, y_train)\n",
    "\n",
    "# Make predictions on the testing data\n",
    "y_pred = knn_regressor.predict(X_test)\n",
    "\n",
    "# Calculate Mean Squared Error to evaluate the model\n",
    "mse = mean_squared_error(y_test, y_pred)\n",
    "rmse = sqrt(mse)\n",
    "print(f\"Root Mean Squared Error: {rmse}\")\n",
    "print(f\"Mean Squared Error: {mse}\")\n",
    "print(\"R2 Score:\", r2_score(y_test, y_pred))\n",
    "print(y_test)\n",
    "print(y_pred)"
   ]
  },
  {
   "cell_type": "code",
   "execution_count": null,
   "id": "50f63c39",
   "metadata": {},
   "outputs": [],
   "source": []
  }
 ],
 "metadata": {
  "kernelspec": {
   "display_name": "Python 3 (ipykernel)",
   "language": "python",
   "name": "python3"
  },
  "language_info": {
   "codemirror_mode": {
    "name": "ipython",
    "version": 3
   },
   "file_extension": ".py",
   "mimetype": "text/x-python",
   "name": "python",
   "nbconvert_exporter": "python",
   "pygments_lexer": "ipython3",
   "version": "3.9.7"
  }
 },
 "nbformat": 4,
 "nbformat_minor": 5
}
