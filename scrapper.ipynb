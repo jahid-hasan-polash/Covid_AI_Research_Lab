{
 "cells": [
  {
   "cell_type": "code",
   "execution_count": 1,
   "id": "e3d219c6",
   "metadata": {},
   "outputs": [],
   "source": [
    "import os\n",
    "import requests\n",
    "from bs4 import BeautifulSoup"
   ]
  },
  {
   "cell_type": "code",
   "execution_count": 2,
   "id": "ba39373c",
   "metadata": {},
   "outputs": [],
   "source": [
    "def download_file(url, directory):\n",
    "    response = requests.get(url, stream=True)\n",
    "    filename = os.path.join(directory, url.split(\"/\")[-1])\n",
    "    \n",
    "    with open(filename, 'wb') as fd:\n",
    "        for chunk in response.iter_content(chunk_size=1024):\n",
    "            fd.write(chunk)"
   ]
  },
  {
   "cell_type": "code",
   "execution_count": 22,
   "id": "c30fdd00",
   "metadata": {},
   "outputs": [],
   "source": [
    "def scrape_and_download_files(url, directory='.'):\n",
    "    response = requests.get(url)\n",
    "    soup = BeautifulSoup(response.text, 'html.parser')\n",
    "\n",
    "    for link in soup.find_all('a'):\n",
    "        file_url = link.get('href')\n",
    "        if file_url.endswith('.xlsx'):\n",
    "            download_file('https://lua.rlp.de/' + file_url, directory)"
   ]
  },
  {
   "cell_type": "code",
   "execution_count": 21,
   "id": "e6505eb0",
   "metadata": {},
   "outputs": [],
   "source": [
    "url = 'https://lua.rlp.de/de/unsere-themen/infektionsschutz/meldedaten-coronavirus/meldedaten-excel/'\n",
    "scrape_and_download_files(url, 'dataset')"
   ]
  },
  {
   "cell_type": "code",
   "execution_count": 18,
   "id": "bc1c67d5",
   "metadata": {},
   "outputs": [
    {
     "name": "stdout",
     "output_type": "stream",
     "text": [
      "User-Agent: *\n",
      "Disallow: /t3lib/\n",
      "Disallow: /typo3/\n",
      "Disallow: /typo3conf/\n",
      "Disallow: /typo3temp/\n",
      "Disallow: /fileadmin/RLP_Abitur/\n",
      "\n"
     ]
    }
   ],
   "source": [
    "def get_robots_txt(url):\n",
    "    if url.endswith('/'):\n",
    "        path = url\n",
    "    else:\n",
    "        path = url + '/'\n",
    "    reqs = requests.get(path + \"robots.txt\")\n",
    "    return reqs.text\n",
    "\n",
    "print(get_robots_txt('https://lua.rlp.de'))"
   ]
  },
  {
   "cell_type": "code",
   "execution_count": null,
   "id": "baf10fe1",
   "metadata": {},
   "outputs": [],
   "source": []
  }
 ],
 "metadata": {
  "kernelspec": {
   "display_name": "Python 3 (ipykernel)",
   "language": "python",
   "name": "python3"
  },
  "language_info": {
   "codemirror_mode": {
    "name": "ipython",
    "version": 3
   },
   "file_extension": ".py",
   "mimetype": "text/x-python",
   "name": "python",
   "nbconvert_exporter": "python",
   "pygments_lexer": "ipython3",
   "version": "3.9.12"
  }
 },
 "nbformat": 4,
 "nbformat_minor": 5
}
