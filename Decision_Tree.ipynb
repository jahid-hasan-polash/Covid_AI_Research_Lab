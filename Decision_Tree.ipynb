{
 "cells": [
  {
   "cell_type": "code",
   "execution_count": 1,
   "id": "833f021d",
   "metadata": {},
   "outputs": [],
   "source": [
    "import pandas as pd\n",
    "from sklearn.model_selection import train_test_split\n",
    "from sklearn.tree import DecisionTreeRegressor\n",
    "from sklearn.metrics import mean_squared_error,r2_score\n",
    "import platform"
   ]
  },
  {
   "cell_type": "code",
   "execution_count": 2,
   "id": "05d0b616",
   "metadata": {},
   "outputs": [],
   "source": [
    "os_type = platform.system()\n",
    "if os_type.startswith(\"Darwin\"):\n",
    "    data = pd.read_excel(r\"dataset/processed_data/main/final_cleaned_dataset.xlsx\")\n",
    "else: \n",
    "    data = pd.read_excel(r\"dataset\\processed_data\\main\\final_cleaned_dataset.xlsx\")\n",
    "#Droping the target col\n",
    "feature_value_temp = data.drop(\"Laboratory confirmed, since the beginning of the pandemic Hospitalized\", axis=1)\n",
    "#Droping the Distric col as it is string and will be assigned value by clustering\n",
    "features = feature_value_temp.drop(\"District\",axis=1)\n",
    "target_col = data[\"Laboratory confirmed, since the beginning of the pandemic Hospitalized\"]"
   ]
  },
  {
   "cell_type": "code",
   "execution_count": 3,
   "id": "0a332a90",
   "metadata": {},
   "outputs": [],
   "source": [
    "X_train, X_test, y_train, y_test = train_test_split(features, target_col, test_size=0.3, random_state=29)"
   ]
  },
  {
   "cell_type": "code",
   "execution_count": 18,
   "id": "8ec9c78f",
   "metadata": {},
   "outputs": [
    {
     "data": {
      "text/plain": [
       "DecisionTreeRegressor(max_depth=20)"
      ]
     },
     "execution_count": 18,
     "metadata": {},
     "output_type": "execute_result"
    }
   ],
   "source": [
    "mse_value = []\n",
    "estimators_ = []\n",
    "decision_tree = DecisionTreeRegressor(max_depth=20)\n",
    "decision_tree.fit(X_train, y_train)"
   ]
  },
  {
   "cell_type": "code",
   "execution_count": 26,
   "id": "98508087",
   "metadata": {},
   "outputs": [
    {
     "name": "stdout",
     "output_type": "stream",
     "text": [
      "Root Mean Squared Error: 42.261346801875405\n",
      "Mean Squared Error: 1786.0214335083842\n",
      "R2 Score: 0.9861126381070584\n",
      "14201     609\n",
      "6738      198\n",
      "6835      246\n",
      "4832      558\n",
      "16575    1384\n",
      "         ... \n",
      "7359      534\n",
      "11424     927\n",
      "12960     676\n",
      "11699    1022\n",
      "15180    1624\n",
      "Name: Laboratory confirmed, since the beginning of the pandemic Hospitalized, Length: 5010, dtype: int64\n",
      "[ 609.  198.  246. ...  677. 1023. 1624.]\n"
     ]
    }
   ],
   "source": [
    "from math import sqrt\n",
    "y_pred = decision_tree.predict(X_test)\n",
    "mse =mean_squared_error(y_test, y_pred)\n",
    "rmse = sqrt(mse)\n",
    "print(f\"Root Mean Squared Error: {rmse}\")\n",
    "print(f\"Mean Squared Error: {mse}\")\n",
    "print(\"R2 Score:\", r2_score(y_test, y_pred))\n",
    "print(y_test)\n",
    "print(y_pred)"
   ]
  },
  {
   "cell_type": "code",
   "execution_count": null,
   "id": "38ace1ad",
   "metadata": {},
   "outputs": [],
   "source": []
  }
 ],
 "metadata": {
  "kernelspec": {
   "display_name": "Python 3 (ipykernel)",
   "language": "python",
   "name": "python3"
  },
  "language_info": {
   "codemirror_mode": {
    "name": "ipython",
    "version": 3
   },
   "file_extension": ".py",
   "mimetype": "text/x-python",
   "name": "python",
   "nbconvert_exporter": "python",
   "pygments_lexer": "ipython3",
   "version": "3.9.7"
  }
 },
 "nbformat": 4,
 "nbformat_minor": 5
}
